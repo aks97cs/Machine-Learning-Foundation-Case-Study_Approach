{
 "cells": [
  {
   "cell_type": "code",
   "execution_count": 1,
   "metadata": {},
   "outputs": [],
   "source": [
    "import turicreate as tc"
   ]
  },
  {
   "cell_type": "markdown",
   "metadata": {},
   "source": [
    "### LOADING DATA"
   ]
  },
  {
   "cell_type": "code",
   "execution_count": 2,
   "metadata": {},
   "outputs": [],
   "source": [
    "image_train = tc.SFrame('image_train_data/')"
   ]
  },
  {
   "cell_type": "code",
   "execution_count": 3,
   "metadata": {},
   "outputs": [
    {
     "data": {
      "text/html": [
       "<div style=\"max-height:1000px;max-width:1500px;overflow:auto;\"><table frame=\"box\" rules=\"cols\">\n",
       "    <tr>\n",
       "        <th style=\"padding-left: 1em; padding-right: 1em; text-align: center\">id</th>\n",
       "        <th style=\"padding-left: 1em; padding-right: 1em; text-align: center\">image</th>\n",
       "        <th style=\"padding-left: 1em; padding-right: 1em; text-align: center\">label</th>\n",
       "        <th style=\"padding-left: 1em; padding-right: 1em; text-align: center\">deep_features</th>\n",
       "        <th style=\"padding-left: 1em; padding-right: 1em; text-align: center\">image_array</th>\n",
       "    </tr>\n",
       "    <tr>\n",
       "        <td style=\"padding-left: 1em; padding-right: 1em; text-align: center; vertical-align: top\">24</td>\n",
       "        <td style=\"padding-left: 1em; padding-right: 1em; text-align: center; vertical-align: top\">Height: 32 Width: 32</td>\n",
       "        <td style=\"padding-left: 1em; padding-right: 1em; text-align: center; vertical-align: top\">bird</td>\n",
       "        <td style=\"padding-left: 1em; padding-right: 1em; text-align: center; vertical-align: top\">[0.24287176132202148,<br>1.0954537391662598, 0.0, ...</td>\n",
       "        <td style=\"padding-left: 1em; padding-right: 1em; text-align: center; vertical-align: top\">[73.0, 77.0, 58.0, 71.0,<br>68.0, 50.0, 77.0, 69.0, ...</td>\n",
       "    </tr>\n",
       "    <tr>\n",
       "        <td style=\"padding-left: 1em; padding-right: 1em; text-align: center; vertical-align: top\">33</td>\n",
       "        <td style=\"padding-left: 1em; padding-right: 1em; text-align: center; vertical-align: top\">Height: 32 Width: 32</td>\n",
       "        <td style=\"padding-left: 1em; padding-right: 1em; text-align: center; vertical-align: top\">cat</td>\n",
       "        <td style=\"padding-left: 1em; padding-right: 1em; text-align: center; vertical-align: top\">[0.5250879526138306, 0.0,<br>0.0, 0.0, 0.0, 0.0, ...</td>\n",
       "        <td style=\"padding-left: 1em; padding-right: 1em; text-align: center; vertical-align: top\">[7.0, 5.0, 8.0, 7.0, 5.0,<br>8.0, 5.0, 4.0, 6.0, 7.0, ...</td>\n",
       "    </tr>\n",
       "    <tr>\n",
       "        <td style=\"padding-left: 1em; padding-right: 1em; text-align: center; vertical-align: top\">36</td>\n",
       "        <td style=\"padding-left: 1em; padding-right: 1em; text-align: center; vertical-align: top\">Height: 32 Width: 32</td>\n",
       "        <td style=\"padding-left: 1em; padding-right: 1em; text-align: center; vertical-align: top\">cat</td>\n",
       "        <td style=\"padding-left: 1em; padding-right: 1em; text-align: center; vertical-align: top\">[0.5660159587860107, 0.0,<br>0.0, 0.0, 0.0, 0.0, ...</td>\n",
       "        <td style=\"padding-left: 1em; padding-right: 1em; text-align: center; vertical-align: top\">[169.0, 122.0, 65.0,<br>131.0, 108.0, 75.0, ...</td>\n",
       "    </tr>\n",
       "    <tr>\n",
       "        <td style=\"padding-left: 1em; padding-right: 1em; text-align: center; vertical-align: top\">70</td>\n",
       "        <td style=\"padding-left: 1em; padding-right: 1em; text-align: center; vertical-align: top\">Height: 32 Width: 32</td>\n",
       "        <td style=\"padding-left: 1em; padding-right: 1em; text-align: center; vertical-align: top\">dog</td>\n",
       "        <td style=\"padding-left: 1em; padding-right: 1em; text-align: center; vertical-align: top\">[1.129795789718628, 0.0,<br>0.0, 0.7781944870948792, ...</td>\n",
       "        <td style=\"padding-left: 1em; padding-right: 1em; text-align: center; vertical-align: top\">[154.0, 179.0, 152.0,<br>159.0, 183.0, 157.0, ...</td>\n",
       "    </tr>\n",
       "    <tr>\n",
       "        <td style=\"padding-left: 1em; padding-right: 1em; text-align: center; vertical-align: top\">90</td>\n",
       "        <td style=\"padding-left: 1em; padding-right: 1em; text-align: center; vertical-align: top\">Height: 32 Width: 32</td>\n",
       "        <td style=\"padding-left: 1em; padding-right: 1em; text-align: center; vertical-align: top\">bird</td>\n",
       "        <td style=\"padding-left: 1em; padding-right: 1em; text-align: center; vertical-align: top\">[1.7178692817687988, 0.0,<br>0.0, 0.0, 0.0, 0.0, ...</td>\n",
       "        <td style=\"padding-left: 1em; padding-right: 1em; text-align: center; vertical-align: top\">[216.0, 195.0, 180.0,<br>201.0, 178.0, 160.0, ...</td>\n",
       "    </tr>\n",
       "    <tr>\n",
       "        <td style=\"padding-left: 1em; padding-right: 1em; text-align: center; vertical-align: top\">97</td>\n",
       "        <td style=\"padding-left: 1em; padding-right: 1em; text-align: center; vertical-align: top\">Height: 32 Width: 32</td>\n",
       "        <td style=\"padding-left: 1em; padding-right: 1em; text-align: center; vertical-align: top\">automobile</td>\n",
       "        <td style=\"padding-left: 1em; padding-right: 1em; text-align: center; vertical-align: top\">[1.5781855583190918, 0.0,<br>0.0, 0.0, 0.0, 0.0, ...</td>\n",
       "        <td style=\"padding-left: 1em; padding-right: 1em; text-align: center; vertical-align: top\">[33.0, 44.0, 27.0, 29.0,<br>44.0, 31.0, 32.0, 45.0, ...</td>\n",
       "    </tr>\n",
       "    <tr>\n",
       "        <td style=\"padding-left: 1em; padding-right: 1em; text-align: center; vertical-align: top\">107</td>\n",
       "        <td style=\"padding-left: 1em; padding-right: 1em; text-align: center; vertical-align: top\">Height: 32 Width: 32</td>\n",
       "        <td style=\"padding-left: 1em; padding-right: 1em; text-align: center; vertical-align: top\">dog</td>\n",
       "        <td style=\"padding-left: 1em; padding-right: 1em; text-align: center; vertical-align: top\">[0.0, 0.0,<br>0.22067785263061523,  ...</td>\n",
       "        <td style=\"padding-left: 1em; padding-right: 1em; text-align: center; vertical-align: top\">[97.0, 51.0, 31.0, 104.0,<br>58.0, 38.0, 107.0, 61.0, ...</td>\n",
       "    </tr>\n",
       "    <tr>\n",
       "        <td style=\"padding-left: 1em; padding-right: 1em; text-align: center; vertical-align: top\">121</td>\n",
       "        <td style=\"padding-left: 1em; padding-right: 1em; text-align: center; vertical-align: top\">Height: 32 Width: 32</td>\n",
       "        <td style=\"padding-left: 1em; padding-right: 1em; text-align: center; vertical-align: top\">bird</td>\n",
       "        <td style=\"padding-left: 1em; padding-right: 1em; text-align: center; vertical-align: top\">[0.0,<br>0.23753464221954346,  ...</td>\n",
       "        <td style=\"padding-left: 1em; padding-right: 1em; text-align: center; vertical-align: top\">[93.0, 96.0, 88.0, 102.0,<br>106.0, 97.0, 117.0, ...</td>\n",
       "    </tr>\n",
       "    <tr>\n",
       "        <td style=\"padding-left: 1em; padding-right: 1em; text-align: center; vertical-align: top\">136</td>\n",
       "        <td style=\"padding-left: 1em; padding-right: 1em; text-align: center; vertical-align: top\">Height: 32 Width: 32</td>\n",
       "        <td style=\"padding-left: 1em; padding-right: 1em; text-align: center; vertical-align: top\">automobile</td>\n",
       "        <td style=\"padding-left: 1em; padding-right: 1em; text-align: center; vertical-align: top\">[0.0, 0.0, 0.0, 0.0, 0.0,<br>0.0, 7.57378625869751, ...</td>\n",
       "        <td style=\"padding-left: 1em; padding-right: 1em; text-align: center; vertical-align: top\">[35.0, 59.0, 53.0, 36.0,<br>56.0, 56.0, 42.0, 62.0, ...</td>\n",
       "    </tr>\n",
       "    <tr>\n",
       "        <td style=\"padding-left: 1em; padding-right: 1em; text-align: center; vertical-align: top\">138</td>\n",
       "        <td style=\"padding-left: 1em; padding-right: 1em; text-align: center; vertical-align: top\">Height: 32 Width: 32</td>\n",
       "        <td style=\"padding-left: 1em; padding-right: 1em; text-align: center; vertical-align: top\">bird</td>\n",
       "        <td style=\"padding-left: 1em; padding-right: 1em; text-align: center; vertical-align: top\">[0.6589357256889343, 0.0,<br>0.0, 0.0, 0.0, 0.0, ...</td>\n",
       "        <td style=\"padding-left: 1em; padding-right: 1em; text-align: center; vertical-align: top\">[205.0, 193.0, 195.0,<br>200.0, 187.0, 193.0, ...</td>\n",
       "    </tr>\n",
       "</table>\n",
       "[10 rows x 5 columns]<br/>\n",
       "</div>"
      ],
      "text/plain": [
       "Columns:\n",
       "\tid\tint\n",
       "\timage\tImage\n",
       "\tlabel\tstr\n",
       "\tdeep_features\tarray\n",
       "\timage_array\tarray\n",
       "\n",
       "Rows: 10\n",
       "\n",
       "Data:\n",
       "+-----+----------------------+------------+-------------------------------+\n",
       "|  id |        image         |   label    |         deep_features         |\n",
       "+-----+----------------------+------------+-------------------------------+\n",
       "|  24 | Height: 32 Width: 32 |    bird    | [0.24287176132202148, 1.09... |\n",
       "|  33 | Height: 32 Width: 32 |    cat     | [0.5250879526138306, 0.0, ... |\n",
       "|  36 | Height: 32 Width: 32 |    cat     | [0.5660159587860107, 0.0, ... |\n",
       "|  70 | Height: 32 Width: 32 |    dog     | [1.129795789718628, 0.0, 0... |\n",
       "|  90 | Height: 32 Width: 32 |    bird    | [1.7178692817687988, 0.0, ... |\n",
       "|  97 | Height: 32 Width: 32 | automobile | [1.5781855583190918, 0.0, ... |\n",
       "| 107 | Height: 32 Width: 32 |    dog     | [0.0, 0.0, 0.2206778526306... |\n",
       "| 121 | Height: 32 Width: 32 |    bird    | [0.0, 0.23753464221954346,... |\n",
       "| 136 | Height: 32 Width: 32 | automobile | [0.0, 0.0, 0.0, 0.0, 0.0, ... |\n",
       "| 138 | Height: 32 Width: 32 |    bird    | [0.6589357256889343, 0.0, ... |\n",
       "+-----+----------------------+------------+-------------------------------+\n",
       "+-------------------------------+\n",
       "|          image_array          |\n",
       "+-------------------------------+\n",
       "| [73.0, 77.0, 58.0, 71.0, 6... |\n",
       "| [7.0, 5.0, 8.0, 7.0, 5.0, ... |\n",
       "| [169.0, 122.0, 65.0, 131.0... |\n",
       "| [154.0, 179.0, 152.0, 159.... |\n",
       "| [216.0, 195.0, 180.0, 201.... |\n",
       "| [33.0, 44.0, 27.0, 29.0, 4... |\n",
       "| [97.0, 51.0, 31.0, 104.0, ... |\n",
       "| [93.0, 96.0, 88.0, 102.0, ... |\n",
       "| [35.0, 59.0, 53.0, 36.0, 5... |\n",
       "| [205.0, 193.0, 195.0, 200.... |\n",
       "+-------------------------------+\n",
       "[10 rows x 5 columns]"
      ]
     },
     "execution_count": 3,
     "metadata": {},
     "output_type": "execute_result"
    }
   ],
   "source": [
    "image_train.head()"
   ]
  },
  {
   "cell_type": "markdown",
   "metadata": {},
   "source": [
    "### CREATING NEAREST NEIGHBOUT MODEL"
   ]
  },
  {
   "cell_type": "code",
   "execution_count": 4,
   "metadata": {},
   "outputs": [],
   "source": [
    "image_test = tc.SFrame('image_test_data/')"
   ]
  },
  {
   "cell_type": "code",
   "execution_count": 6,
   "metadata": {},
   "outputs": [
    {
     "data": {
      "text/html": [
       "<div style=\"max-height:1000px;max-width:1500px;overflow:auto;\"><table frame=\"box\" rules=\"cols\">\n",
       "    <tr>\n",
       "        <th style=\"padding-left: 1em; padding-right: 1em; text-align: center\">id</th>\n",
       "        <th style=\"padding-left: 1em; padding-right: 1em; text-align: center\">image</th>\n",
       "        <th style=\"padding-left: 1em; padding-right: 1em; text-align: center\">label</th>\n",
       "        <th style=\"padding-left: 1em; padding-right: 1em; text-align: center\">deep_features</th>\n",
       "        <th style=\"padding-left: 1em; padding-right: 1em; text-align: center\">image_array</th>\n",
       "    </tr>\n",
       "    <tr>\n",
       "        <td style=\"padding-left: 1em; padding-right: 1em; text-align: center; vertical-align: top\">0</td>\n",
       "        <td style=\"padding-left: 1em; padding-right: 1em; text-align: center; vertical-align: top\">Height: 32 Width: 32</td>\n",
       "        <td style=\"padding-left: 1em; padding-right: 1em; text-align: center; vertical-align: top\">cat</td>\n",
       "        <td style=\"padding-left: 1em; padding-right: 1em; text-align: center; vertical-align: top\">[1.1346900463104248, 0.0,<br>0.0, 0.0, ...</td>\n",
       "        <td style=\"padding-left: 1em; padding-right: 1em; text-align: center; vertical-align: top\">[158.0, 112.0, 49.0,<br>159.0, 111.0, 47.0, ...</td>\n",
       "    </tr>\n",
       "    <tr>\n",
       "        <td style=\"padding-left: 1em; padding-right: 1em; text-align: center; vertical-align: top\">6</td>\n",
       "        <td style=\"padding-left: 1em; padding-right: 1em; text-align: center; vertical-align: top\">Height: 32 Width: 32</td>\n",
       "        <td style=\"padding-left: 1em; padding-right: 1em; text-align: center; vertical-align: top\">automobile</td>\n",
       "        <td style=\"padding-left: 1em; padding-right: 1em; text-align: center; vertical-align: top\">[0.2313588261604309, 0.0,<br>0.0, 0.0, 0.0, ...</td>\n",
       "        <td style=\"padding-left: 1em; padding-right: 1em; text-align: center; vertical-align: top\">[160.0, 37.0, 13.0,<br>185.0, 49.0, 11.0, 20 ...</td>\n",
       "    </tr>\n",
       "    <tr>\n",
       "        <td style=\"padding-left: 1em; padding-right: 1em; text-align: center; vertical-align: top\">8</td>\n",
       "        <td style=\"padding-left: 1em; padding-right: 1em; text-align: center; vertical-align: top\">Height: 32 Width: 32</td>\n",
       "        <td style=\"padding-left: 1em; padding-right: 1em; text-align: center; vertical-align: top\">cat</td>\n",
       "        <td style=\"padding-left: 1em; padding-right: 1em; text-align: center; vertical-align: top\">[0.0, 0.0,<br>0.034419238567352295, ...</td>\n",
       "        <td style=\"padding-left: 1em; padding-right: 1em; text-align: center; vertical-align: top\">[23.0, 19.0, 23.0, 19.0,<br>21.0, 28.0, 21.0, 16.0, ...</td>\n",
       "    </tr>\n",
       "    <tr>\n",
       "        <td style=\"padding-left: 1em; padding-right: 1em; text-align: center; vertical-align: top\">9</td>\n",
       "        <td style=\"padding-left: 1em; padding-right: 1em; text-align: center; vertical-align: top\">Height: 32 Width: 32</td>\n",
       "        <td style=\"padding-left: 1em; padding-right: 1em; text-align: center; vertical-align: top\">automobile</td>\n",
       "        <td style=\"padding-left: 1em; padding-right: 1em; text-align: center; vertical-align: top\">[0.0, 0.0, 0.0, 0.0, 0.0,<br>0.0, 11.6065092086792, ...</td>\n",
       "        <td style=\"padding-left: 1em; padding-right: 1em; text-align: center; vertical-align: top\">[217.0, 215.0, 209.0,<br>210.0, 208.0, 202.0, ...</td>\n",
       "    </tr>\n",
       "    <tr>\n",
       "        <td style=\"padding-left: 1em; padding-right: 1em; text-align: center; vertical-align: top\">12</td>\n",
       "        <td style=\"padding-left: 1em; padding-right: 1em; text-align: center; vertical-align: top\">Height: 32 Width: 32</td>\n",
       "        <td style=\"padding-left: 1em; padding-right: 1em; text-align: center; vertical-align: top\">dog</td>\n",
       "        <td style=\"padding-left: 1em; padding-right: 1em; text-align: center; vertical-align: top\">[0.3223174810409546, 0.0,<br>1.2493335008621216, 0.0, ...</td>\n",
       "        <td style=\"padding-left: 1em; padding-right: 1em; text-align: center; vertical-align: top\">[91.0, 64.0, 30.0, 82.0,<br>58.0, 30.0, 87.0, 73.0, ...</td>\n",
       "    </tr>\n",
       "    <tr>\n",
       "        <td style=\"padding-left: 1em; padding-right: 1em; text-align: center; vertical-align: top\">16</td>\n",
       "        <td style=\"padding-left: 1em; padding-right: 1em; text-align: center; vertical-align: top\">Height: 32 Width: 32</td>\n",
       "        <td style=\"padding-left: 1em; padding-right: 1em; text-align: center; vertical-align: top\">dog</td>\n",
       "        <td style=\"padding-left: 1em; padding-right: 1em; text-align: center; vertical-align: top\">[0.0, 0.0,<br>0.34735703468322754,  ...</td>\n",
       "        <td style=\"padding-left: 1em; padding-right: 1em; text-align: center; vertical-align: top\">[95.0, 76.0, 78.0, 92.0,<br>77.0, 78.0, 89.0, 77.0, ...</td>\n",
       "    </tr>\n",
       "    <tr>\n",
       "        <td style=\"padding-left: 1em; padding-right: 1em; text-align: center; vertical-align: top\">24</td>\n",
       "        <td style=\"padding-left: 1em; padding-right: 1em; text-align: center; vertical-align: top\">Height: 32 Width: 32</td>\n",
       "        <td style=\"padding-left: 1em; padding-right: 1em; text-align: center; vertical-align: top\">dog</td>\n",
       "        <td style=\"padding-left: 1em; padding-right: 1em; text-align: center; vertical-align: top\">[1.3155765533447266, 0.0,<br>0.0, 0.0, 0.0, 0.0, ...</td>\n",
       "        <td style=\"padding-left: 1em; padding-right: 1em; text-align: center; vertical-align: top\">[136.0, 134.0, 118.0,<br>142.0, 141.0, 126.0, ...</td>\n",
       "    </tr>\n",
       "    <tr>\n",
       "        <td style=\"padding-left: 1em; padding-right: 1em; text-align: center; vertical-align: top\">25</td>\n",
       "        <td style=\"padding-left: 1em; padding-right: 1em; text-align: center; vertical-align: top\">Height: 32 Width: 32</td>\n",
       "        <td style=\"padding-left: 1em; padding-right: 1em; text-align: center; vertical-align: top\">bird</td>\n",
       "        <td style=\"padding-left: 1em; padding-right: 1em; text-align: center; vertical-align: top\">[0.0,<br>0.31728875637054443,  ...</td>\n",
       "        <td style=\"padding-left: 1em; padding-right: 1em; text-align: center; vertical-align: top\">[100.0, 103.0, 74.0,<br>68.0, 91.0, 65.0, 116.0, ...</td>\n",
       "    </tr>\n",
       "    <tr>\n",
       "        <td style=\"padding-left: 1em; padding-right: 1em; text-align: center; vertical-align: top\">31</td>\n",
       "        <td style=\"padding-left: 1em; padding-right: 1em; text-align: center; vertical-align: top\">Height: 32 Width: 32</td>\n",
       "        <td style=\"padding-left: 1em; padding-right: 1em; text-align: center; vertical-align: top\">dog</td>\n",
       "        <td style=\"padding-left: 1em; padding-right: 1em; text-align: center; vertical-align: top\">[0.0, 0.0, 0.0, 0.0, 0.0,<br>0.0, 9.260188102722168, ...</td>\n",
       "        <td style=\"padding-left: 1em; padding-right: 1em; text-align: center; vertical-align: top\">[127.0, 130.0, 81.0,<br>130.0, 133.0, 88.0, ...</td>\n",
       "    </tr>\n",
       "    <tr>\n",
       "        <td style=\"padding-left: 1em; padding-right: 1em; text-align: center; vertical-align: top\">33</td>\n",
       "        <td style=\"padding-left: 1em; padding-right: 1em; text-align: center; vertical-align: top\">Height: 32 Width: 32</td>\n",
       "        <td style=\"padding-left: 1em; padding-right: 1em; text-align: center; vertical-align: top\">dog</td>\n",
       "        <td style=\"padding-left: 1em; padding-right: 1em; text-align: center; vertical-align: top\">[0.1307867169380188,<br>0.7276672124862671, 0.0, ...</td>\n",
       "        <td style=\"padding-left: 1em; padding-right: 1em; text-align: center; vertical-align: top\">[118.0, 113.0, 81.0,<br>122.0, 117.0, 83.0, ...</td>\n",
       "    </tr>\n",
       "</table>\n",
       "[10 rows x 5 columns]<br/>\n",
       "</div>"
      ],
      "text/plain": [
       "Columns:\n",
       "\tid\tint\n",
       "\timage\tImage\n",
       "\tlabel\tstr\n",
       "\tdeep_features\tarray\n",
       "\timage_array\tarray\n",
       "\n",
       "Rows: 10\n",
       "\n",
       "Data:\n",
       "+----+----------------------+------------+-------------------------------+\n",
       "| id |        image         |   label    |         deep_features         |\n",
       "+----+----------------------+------------+-------------------------------+\n",
       "| 0  | Height: 32 Width: 32 |    cat     | [1.1346900463104248, 0.0, ... |\n",
       "| 6  | Height: 32 Width: 32 | automobile | [0.2313588261604309, 0.0, ... |\n",
       "| 8  | Height: 32 Width: 32 |    cat     | [0.0, 0.0, 0.0344192385673... |\n",
       "| 9  | Height: 32 Width: 32 | automobile | [0.0, 0.0, 0.0, 0.0, 0.0, ... |\n",
       "| 12 | Height: 32 Width: 32 |    dog     | [0.3223174810409546, 0.0, ... |\n",
       "| 16 | Height: 32 Width: 32 |    dog     | [0.0, 0.0, 0.3473570346832... |\n",
       "| 24 | Height: 32 Width: 32 |    dog     | [1.3155765533447266, 0.0, ... |\n",
       "| 25 | Height: 32 Width: 32 |    bird    | [0.0, 0.31728875637054443,... |\n",
       "| 31 | Height: 32 Width: 32 |    dog     | [0.0, 0.0, 0.0, 0.0, 0.0, ... |\n",
       "| 33 | Height: 32 Width: 32 |    dog     | [0.1307867169380188, 0.727... |\n",
       "+----+----------------------+------------+-------------------------------+\n",
       "+-------------------------------+\n",
       "|          image_array          |\n",
       "+-------------------------------+\n",
       "| [158.0, 112.0, 49.0, 159.0... |\n",
       "| [160.0, 37.0, 13.0, 185.0,... |\n",
       "| [23.0, 19.0, 23.0, 19.0, 2... |\n",
       "| [217.0, 215.0, 209.0, 210.... |\n",
       "| [91.0, 64.0, 30.0, 82.0, 5... |\n",
       "| [95.0, 76.0, 78.0, 92.0, 7... |\n",
       "| [136.0, 134.0, 118.0, 142.... |\n",
       "| [100.0, 103.0, 74.0, 68.0,... |\n",
       "| [127.0, 130.0, 81.0, 130.0... |\n",
       "| [118.0, 113.0, 81.0, 122.0... |\n",
       "+-------------------------------+\n",
       "[10 rows x 5 columns]"
      ]
     },
     "execution_count": 6,
     "metadata": {},
     "output_type": "execute_result"
    }
   ],
   "source": [
    "image_test.head()"
   ]
  },
  {
   "cell_type": "code",
   "execution_count": 7,
   "metadata": {},
   "outputs": [
    {
     "data": {
      "text/html": [
       "<pre>Starting brute force nearest neighbors model training.</pre>"
      ],
      "text/plain": [
       "Starting brute force nearest neighbors model training."
      ]
     },
     "metadata": {},
     "output_type": "display_data"
    },
    {
     "data": {
      "text/html": [
       "<pre>Validating distance components.</pre>"
      ],
      "text/plain": [
       "Validating distance components."
      ]
     },
     "metadata": {},
     "output_type": "display_data"
    },
    {
     "data": {
      "text/html": [
       "<pre>Initializing model data.</pre>"
      ],
      "text/plain": [
       "Initializing model data."
      ]
     },
     "metadata": {},
     "output_type": "display_data"
    },
    {
     "data": {
      "text/html": [
       "<pre>Initializing distances.</pre>"
      ],
      "text/plain": [
       "Initializing distances."
      ]
     },
     "metadata": {},
     "output_type": "display_data"
    },
    {
     "data": {
      "text/html": [
       "<pre>Done.</pre>"
      ],
      "text/plain": [
       "Done."
      ]
     },
     "metadata": {},
     "output_type": "display_data"
    }
   ],
   "source": [
    "knn_model = tc.nearest_neighbors.create(image_train, features=['deep_features'], label='id')"
   ]
  },
  {
   "cell_type": "code",
   "execution_count": 17,
   "metadata": {},
   "outputs": [],
   "source": [
    "img = image_train[17:18]"
   ]
  },
  {
   "cell_type": "code",
   "execution_count": 20,
   "metadata": {},
   "outputs": [
    {
     "data": {
      "text/html": [
       "<pre>Starting pairwise querying.</pre>"
      ],
      "text/plain": [
       "Starting pairwise querying."
      ]
     },
     "metadata": {},
     "output_type": "display_data"
    },
    {
     "data": {
      "text/html": [
       "<pre>+--------------+---------+-------------+--------------+</pre>"
      ],
      "text/plain": [
       "+--------------+---------+-------------+--------------+"
      ]
     },
     "metadata": {},
     "output_type": "display_data"
    },
    {
     "data": {
      "text/html": [
       "<pre>| Query points | # Pairs | % Complete. | Elapsed Time |</pre>"
      ],
      "text/plain": [
       "| Query points | # Pairs | % Complete. | Elapsed Time |"
      ]
     },
     "metadata": {},
     "output_type": "display_data"
    },
    {
     "data": {
      "text/html": [
       "<pre>+--------------+---------+-------------+--------------+</pre>"
      ],
      "text/plain": [
       "+--------------+---------+-------------+--------------+"
      ]
     },
     "metadata": {},
     "output_type": "display_data"
    },
    {
     "data": {
      "text/html": [
       "<pre>| 0            | 1       | 0.0498753   | 4.253ms      |</pre>"
      ],
      "text/plain": [
       "| 0            | 1       | 0.0498753   | 4.253ms      |"
      ]
     },
     "metadata": {},
     "output_type": "display_data"
    },
    {
     "data": {
      "text/html": [
       "<pre>| Done         |         | 100         | 156.19ms     |</pre>"
      ],
      "text/plain": [
       "| Done         |         | 100         | 156.19ms     |"
      ]
     },
     "metadata": {},
     "output_type": "display_data"
    },
    {
     "data": {
      "text/html": [
       "<pre>+--------------+---------+-------------+--------------+</pre>"
      ],
      "text/plain": [
       "+--------------+---------+-------------+--------------+"
      ]
     },
     "metadata": {},
     "output_type": "display_data"
    },
    {
     "data": {
      "text/html": [
       "<div style=\"max-height:1000px;max-width:1500px;overflow:auto;\"><table frame=\"box\" rules=\"cols\">\n",
       "    <tr>\n",
       "        <th style=\"padding-left: 1em; padding-right: 1em; text-align: center\">query_label</th>\n",
       "        <th style=\"padding-left: 1em; padding-right: 1em; text-align: center\">reference_label</th>\n",
       "        <th style=\"padding-left: 1em; padding-right: 1em; text-align: center\">distance</th>\n",
       "        <th style=\"padding-left: 1em; padding-right: 1em; text-align: center\">rank</th>\n",
       "    </tr>\n",
       "    <tr>\n",
       "        <td style=\"padding-left: 1em; padding-right: 1em; text-align: center; vertical-align: top\">0</td>\n",
       "        <td style=\"padding-left: 1em; padding-right: 1em; text-align: center; vertical-align: top\">367</td>\n",
       "        <td style=\"padding-left: 1em; padding-right: 1em; text-align: center; vertical-align: top\">0.0</td>\n",
       "        <td style=\"padding-left: 1em; padding-right: 1em; text-align: center; vertical-align: top\">1</td>\n",
       "    </tr>\n",
       "    <tr>\n",
       "        <td style=\"padding-left: 1em; padding-right: 1em; text-align: center; vertical-align: top\">0</td>\n",
       "        <td style=\"padding-left: 1em; padding-right: 1em; text-align: center; vertical-align: top\">20203</td>\n",
       "        <td style=\"padding-left: 1em; padding-right: 1em; text-align: center; vertical-align: top\">38.55208085473276</td>\n",
       "        <td style=\"padding-left: 1em; padding-right: 1em; text-align: center; vertical-align: top\">2</td>\n",
       "    </tr>\n",
       "    <tr>\n",
       "        <td style=\"padding-left: 1em; padding-right: 1em; text-align: center; vertical-align: top\">0</td>\n",
       "        <td style=\"padding-left: 1em; padding-right: 1em; text-align: center; vertical-align: top\">45778</td>\n",
       "        <td style=\"padding-left: 1em; padding-right: 1em; text-align: center; vertical-align: top\">39.18536234732164</td>\n",
       "        <td style=\"padding-left: 1em; padding-right: 1em; text-align: center; vertical-align: top\">3</td>\n",
       "    </tr>\n",
       "    <tr>\n",
       "        <td style=\"padding-left: 1em; padding-right: 1em; text-align: center; vertical-align: top\">0</td>\n",
       "        <td style=\"padding-left: 1em; padding-right: 1em; text-align: center; vertical-align: top\">17111</td>\n",
       "        <td style=\"padding-left: 1em; padding-right: 1em; text-align: center; vertical-align: top\">39.95295555537001</td>\n",
       "        <td style=\"padding-left: 1em; padding-right: 1em; text-align: center; vertical-align: top\">4</td>\n",
       "    </tr>\n",
       "    <tr>\n",
       "        <td style=\"padding-left: 1em; padding-right: 1em; text-align: center; vertical-align: top\">0</td>\n",
       "        <td style=\"padding-left: 1em; padding-right: 1em; text-align: center; vertical-align: top\">42131</td>\n",
       "        <td style=\"padding-left: 1em; padding-right: 1em; text-align: center; vertical-align: top\">40.12423538404127</td>\n",
       "        <td style=\"padding-left: 1em; padding-right: 1em; text-align: center; vertical-align: top\">5</td>\n",
       "    </tr>\n",
       "</table>\n",
       "[5 rows x 4 columns]<br/>\n",
       "</div>"
      ],
      "text/plain": [
       "Columns:\n",
       "\tquery_label\tint\n",
       "\treference_label\tint\n",
       "\tdistance\tfloat\n",
       "\trank\tint\n",
       "\n",
       "Rows: 5\n",
       "\n",
       "Data:\n",
       "+-------------+-----------------+-------------------+------+\n",
       "| query_label | reference_label |      distance     | rank |\n",
       "+-------------+-----------------+-------------------+------+\n",
       "|      0      |       367       |        0.0        |  1   |\n",
       "|      0      |      20203      | 38.55208085473276 |  2   |\n",
       "|      0      |      45778      | 39.18536234732164 |  3   |\n",
       "|      0      |      17111      | 39.95295555537001 |  4   |\n",
       "|      0      |      42131      | 40.12423538404127 |  5   |\n",
       "+-------------+-----------------+-------------------+------+\n",
       "[5 rows x 4 columns]"
      ]
     },
     "execution_count": 20,
     "metadata": {},
     "output_type": "execute_result"
    }
   ],
   "source": [
    "knn_model.query(img)"
   ]
  },
  {
   "cell_type": "code",
   "execution_count": null,
   "metadata": {},
   "outputs": [],
   "source": []
  },
  {
   "cell_type": "code",
   "execution_count": 21,
   "metadata": {},
   "outputs": [],
   "source": [
    "def get_images_by_ids(query_res):\n",
    "    return image_train.filter_by(query_res['reference_label'], 'id')"
   ]
  },
  {
   "cell_type": "code",
   "execution_count": null,
   "metadata": {},
   "outputs": [],
   "source": []
  },
  {
   "cell_type": "code",
   "execution_count": 22,
   "metadata": {},
   "outputs": [
    {
     "data": {
      "text/html": [
       "<pre>Starting pairwise querying.</pre>"
      ],
      "text/plain": [
       "Starting pairwise querying."
      ]
     },
     "metadata": {},
     "output_type": "display_data"
    },
    {
     "data": {
      "text/html": [
       "<pre>+--------------+---------+-------------+--------------+</pre>"
      ],
      "text/plain": [
       "+--------------+---------+-------------+--------------+"
      ]
     },
     "metadata": {},
     "output_type": "display_data"
    },
    {
     "data": {
      "text/html": [
       "<pre>| Query points | # Pairs | % Complete. | Elapsed Time |</pre>"
      ],
      "text/plain": [
       "| Query points | # Pairs | % Complete. | Elapsed Time |"
      ]
     },
     "metadata": {},
     "output_type": "display_data"
    },
    {
     "data": {
      "text/html": [
       "<pre>+--------------+---------+-------------+--------------+</pre>"
      ],
      "text/plain": [
       "+--------------+---------+-------------+--------------+"
      ]
     },
     "metadata": {},
     "output_type": "display_data"
    },
    {
     "data": {
      "text/html": [
       "<pre>| 0            | 1       | 0.0498753   | 16.018ms     |</pre>"
      ],
      "text/plain": [
       "| 0            | 1       | 0.0498753   | 16.018ms     |"
      ]
     },
     "metadata": {},
     "output_type": "display_data"
    },
    {
     "data": {
      "text/html": [
       "<pre>| Done         |         | 100         | 166.136ms    |</pre>"
      ],
      "text/plain": [
       "| Done         |         | 100         | 166.136ms    |"
      ]
     },
     "metadata": {},
     "output_type": "display_data"
    },
    {
     "data": {
      "text/html": [
       "<pre>+--------------+---------+-------------+--------------+</pre>"
      ],
      "text/plain": [
       "+--------------+---------+-------------+--------------+"
      ]
     },
     "metadata": {},
     "output_type": "display_data"
    }
   ],
   "source": [
    "cat_knn = get_images_by_ids(knn_model.query(img))"
   ]
  },
  {
   "cell_type": "code",
   "execution_count": 23,
   "metadata": {},
   "outputs": [
    {
     "data": {
      "text/html": [
       "<div style=\"max-height:1000px;max-width:1500px;overflow:auto;\"><table frame=\"box\" rules=\"cols\">\n",
       "    <tr>\n",
       "        <th style=\"padding-left: 1em; padding-right: 1em; text-align: center\">id</th>\n",
       "        <th style=\"padding-left: 1em; padding-right: 1em; text-align: center\">image</th>\n",
       "        <th style=\"padding-left: 1em; padding-right: 1em; text-align: center\">label</th>\n",
       "        <th style=\"padding-left: 1em; padding-right: 1em; text-align: center\">deep_features</th>\n",
       "        <th style=\"padding-left: 1em; padding-right: 1em; text-align: center\">image_array</th>\n",
       "    </tr>\n",
       "    <tr>\n",
       "        <td style=\"padding-left: 1em; padding-right: 1em; text-align: center; vertical-align: top\">367</td>\n",
       "        <td style=\"padding-left: 1em; padding-right: 1em; text-align: center; vertical-align: top\">Height: 32 Width: 32</td>\n",
       "        <td style=\"padding-left: 1em; padding-right: 1em; text-align: center; vertical-align: top\">cat</td>\n",
       "        <td style=\"padding-left: 1em; padding-right: 1em; text-align: center; vertical-align: top\">[1.3865805864334106, 0.0,<br>0.0, 0.0, 0.0, ...</td>\n",
       "        <td style=\"padding-left: 1em; padding-right: 1em; text-align: center; vertical-align: top\">[168.0, 151.0, 143.0,<br>145.0, 130.0, 124.0, ...</td>\n",
       "    </tr>\n",
       "    <tr>\n",
       "        <td style=\"padding-left: 1em; padding-right: 1em; text-align: center; vertical-align: top\">17111</td>\n",
       "        <td style=\"padding-left: 1em; padding-right: 1em; text-align: center; vertical-align: top\">Height: 32 Width: 32</td>\n",
       "        <td style=\"padding-left: 1em; padding-right: 1em; text-align: center; vertical-align: top\">automobile</td>\n",
       "        <td style=\"padding-left: 1em; padding-right: 1em; text-align: center; vertical-align: top\">[0.4846263527870178, 0.0,<br>0.0, 0.0, 0.0, 0.0, ...</td>\n",
       "        <td style=\"padding-left: 1em; padding-right: 1em; text-align: center; vertical-align: top\">[18.0, 23.0, 18.0, 22.0,<br>27.0, 22.0, 22.0, 29.0, ...</td>\n",
       "    </tr>\n",
       "    <tr>\n",
       "        <td style=\"padding-left: 1em; padding-right: 1em; text-align: center; vertical-align: top\">20203</td>\n",
       "        <td style=\"padding-left: 1em; padding-right: 1em; text-align: center; vertical-align: top\">Height: 32 Width: 32</td>\n",
       "        <td style=\"padding-left: 1em; padding-right: 1em; text-align: center; vertical-align: top\">cat</td>\n",
       "        <td style=\"padding-left: 1em; padding-right: 1em; text-align: center; vertical-align: top\">[0.0, 0.0, 0.0, 0.0,<br>0.2603745460510254, 0.0, ...</td>\n",
       "        <td style=\"padding-left: 1em; padding-right: 1em; text-align: center; vertical-align: top\">[46.0, 27.0, 29.0, 45.0,<br>26.0, 28.0, 45.0, 26.0, ...</td>\n",
       "    </tr>\n",
       "    <tr>\n",
       "        <td style=\"padding-left: 1em; padding-right: 1em; text-align: center; vertical-align: top\">42131</td>\n",
       "        <td style=\"padding-left: 1em; padding-right: 1em; text-align: center; vertical-align: top\">Height: 32 Width: 32</td>\n",
       "        <td style=\"padding-left: 1em; padding-right: 1em; text-align: center; vertical-align: top\">cat</td>\n",
       "        <td style=\"padding-left: 1em; padding-right: 1em; text-align: center; vertical-align: top\">[0.0, 0.0, 0.0, 0.0, 0.0,<br>0.0, 10.230932235717773, ...</td>\n",
       "        <td style=\"padding-left: 1em; padding-right: 1em; text-align: center; vertical-align: top\">[40.0, 39.0, 21.0, 49.0,<br>44.0, 27.0, 51.0, 43.0, ...</td>\n",
       "    </tr>\n",
       "    <tr>\n",
       "        <td style=\"padding-left: 1em; padding-right: 1em; text-align: center; vertical-align: top\">45778</td>\n",
       "        <td style=\"padding-left: 1em; padding-right: 1em; text-align: center; vertical-align: top\">Height: 32 Width: 32</td>\n",
       "        <td style=\"padding-left: 1em; padding-right: 1em; text-align: center; vertical-align: top\">cat</td>\n",
       "        <td style=\"padding-left: 1em; padding-right: 1em; text-align: center; vertical-align: top\">[2.006963014602661, 0.0,<br>0.3185436725616455, ...</td>\n",
       "        <td style=\"padding-left: 1em; padding-right: 1em; text-align: center; vertical-align: top\">[25.0, 21.0, 25.0, 29.0,<br>23.0, 24.0, 28.0, 20.0, ...</td>\n",
       "    </tr>\n",
       "</table>\n",
       "[5 rows x 5 columns]<br/>\n",
       "</div>"
      ],
      "text/plain": [
       "Columns:\n",
       "\tid\tint\n",
       "\timage\tImage\n",
       "\tlabel\tstr\n",
       "\tdeep_features\tarray\n",
       "\timage_array\tarray\n",
       "\n",
       "Rows: 5\n",
       "\n",
       "Data:\n",
       "+-------+----------------------+------------+-------------------------------+\n",
       "|   id  |        image         |   label    |         deep_features         |\n",
       "+-------+----------------------+------------+-------------------------------+\n",
       "|  367  | Height: 32 Width: 32 |    cat     | [1.3865805864334106, 0.0, ... |\n",
       "| 17111 | Height: 32 Width: 32 | automobile | [0.4846263527870178, 0.0, ... |\n",
       "| 20203 | Height: 32 Width: 32 |    cat     | [0.0, 0.0, 0.0, 0.0, 0.260... |\n",
       "| 42131 | Height: 32 Width: 32 |    cat     | [0.0, 0.0, 0.0, 0.0, 0.0, ... |\n",
       "| 45778 | Height: 32 Width: 32 |    cat     | [2.006963014602661, 0.0, 0... |\n",
       "+-------+----------------------+------------+-------------------------------+\n",
       "+-------------------------------+\n",
       "|          image_array          |\n",
       "+-------------------------------+\n",
       "| [168.0, 151.0, 143.0, 145.... |\n",
       "| [18.0, 23.0, 18.0, 22.0, 2... |\n",
       "| [46.0, 27.0, 29.0, 45.0, 2... |\n",
       "| [40.0, 39.0, 21.0, 49.0, 4... |\n",
       "| [25.0, 21.0, 25.0, 29.0, 2... |\n",
       "+-------------------------------+\n",
       "[5 rows x 5 columns]"
      ]
     },
     "execution_count": 23,
     "metadata": {},
     "output_type": "execute_result"
    }
   ],
   "source": [
    "cat_knn"
   ]
  },
  {
   "cell_type": "code",
   "execution_count": 25,
   "metadata": {},
   "outputs": [
    {
     "data": {
      "text/html": [
       "<html lang=\"en\">                                                     <head>                                                               <style>                                                              .sframe {                                                            font-size: 12px;                                                   font-family: HelveticaNeue;                                        border: 1px solid silver;                                        }                                                                  .sframe thead th {                                                   background: #F7F7F7;                                               font-family: HelveticaNeue-Medium;                                 font-size: 14px;                                                   line-height: 16.8px;                                               padding-top: 16px;                                                 padding-bottom: 16px;                                              padding-left: 10px;                                                padding-right: 38px;                                               border-top: 1px solid #E9E9E9;                                     border-bottom: 1px solid #E9E9E9;                                  white-space: nowrap;                                               overflow: hidden;                                                  text-overflow:ellipsis;                                            text-align:center;                                                 font-weight:normal;                                              }                                                                  .sframe tbody th {                                                   background: #FFFFFF;                                               text-align:left;                                                   font-weight:normal;                                                border-right: 1px solid #E9E9E9;                                 }                                                                  .sframe td {                                                         background: #FFFFFF;                                               padding-left: 10px;                                                padding-right: 38px;                                               padding-top: 14px;                                                 padding-bottom: 14px;                                              border-bottom: 1px solid #E9E9E9;                                  max-height: 0px;                                                   transition: max-height 5s ease-out;                                vertical-align: middle;                                            font-family: HelveticaNeue;                                        font-size: 12px;                                                   line-height: 16.8px;                                               background: #FFFFFF;                                             }                                                                  .sframe tr {                                                         padding-left: 10px;                                                padding-right: 38px;                                               padding-top: 14px;                                                 padding-bottom: 14px;                                              border-bottom: 1px solid #E9E9E9;                                  max-height: 0px;                                                   transition: max-height 5s ease-out;                                vertical-align: middle;                                            font-family: HelveticaNeue;                                        font-size: 12px;                                                   line-height: 16.8px;                                               background: #FFFFFF;                                             }                                                                  .sframe tr:hover {                                                   background: silver;                                              },                                                               </style>                                                         </head>                                                            <body>                                                               <h1>  </h1>                                             <table border=\"1\" class=\"dataframe sframe\">\n",
       "  <thead>\n",
       "    <tr style=\"text-align: right;\">\n",
       "      <th></th>\n",
       "      <th>SArray</th>\n",
       "    </tr>\n",
       "  </thead>\n",
       "  <tbody>\n",
       "    <tr>\n",
       "      <th>0</th>\n",
       "      <td><img src=\"data:image/png;base64,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\"/></td>\n",
       "    </tr>\n",
       "    <tr>\n",
       "      <th>1</th>\n",
       "      <td><img src=\"data:image/png;base64,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\"/></td>\n",
       "    </tr>\n",
       "    <tr>\n",
       "      <th>2</th>\n",
       "      <td><img src=\"data:image/png;base64,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\"/></td>\n",
       "    </tr>\n",
       "    <tr>\n",
       "      <th>3</th>\n",
       "      <td><img src=\"data:image/png;base64,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\"/></td>\n",
       "    </tr>\n",
       "    <tr>\n",
       "      <th>4</th>\n",
       "      <td><img src=\"data:image/png;base64,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\"/></td>\n",
       "    </tr>\n",
       "  </tbody>\n",
       "</table>                          </body>                                                          </html>"
      ],
      "text/plain": [
       "<IPython.core.display.HTML object>"
      ]
     },
     "metadata": {},
     "output_type": "display_data"
    }
   ],
   "source": [
    "cat_knn['image'].explore()"
   ]
  },
  {
   "cell_type": "markdown",
   "metadata": {},
   "source": [
    "## ASSIGNMENT"
   ]
  },
  {
   "cell_type": "code",
   "execution_count": 26,
   "metadata": {},
   "outputs": [],
   "source": [
    "sketch = tc.Sketch(image_train['label'])"
   ]
  },
  {
   "cell_type": "code",
   "execution_count": 27,
   "metadata": {},
   "outputs": [
    {
     "data": {
      "text/plain": [
       "\n",
       "+------------------+-------+----------+\n",
       "|       item       | value | is exact |\n",
       "+------------------+-------+----------+\n",
       "|      Length      |  2005 |   Yes    |\n",
       "| # Missing Values |   0   |   Yes    |\n",
       "| # unique values  |   4   |    No    |\n",
       "+------------------+-------+----------+\n",
       "\n",
       "Most frequent items:\n",
       "+------------+-------+\n",
       "|   value    | count |\n",
       "+------------+-------+\n",
       "|    cat     |  509  |\n",
       "|    dog     |  509  |\n",
       "| automobile |  509  |\n",
       "|    bird    |  478  |\n",
       "+------------+-------+\n"
      ]
     },
     "execution_count": 27,
     "metadata": {},
     "output_type": "execute_result"
    }
   ],
   "source": [
    "sketch"
   ]
  },
  {
   "cell_type": "code",
   "execution_count": 28,
   "metadata": {},
   "outputs": [],
   "source": [
    "cat_img_train = image_train[image_train['label'] == 'cat']"
   ]
  },
  {
   "cell_type": "code",
   "execution_count": 30,
   "metadata": {},
   "outputs": [],
   "source": [
    "dog_img_train = image_train[image_train['label'] == 'dog']"
   ]
  },
  {
   "cell_type": "code",
   "execution_count": 31,
   "metadata": {},
   "outputs": [],
   "source": [
    "automobile_img_train = image_train[image_train['label'] == 'automobile']"
   ]
  },
  {
   "cell_type": "code",
   "execution_count": 32,
   "metadata": {},
   "outputs": [],
   "source": [
    "bird_img_train = image_train[image_train['label'] == 'bird']"
   ]
  },
  {
   "cell_type": "code",
   "execution_count": 33,
   "metadata": {},
   "outputs": [
    {
     "data": {
      "text/html": [
       "<pre>Starting brute force nearest neighbors model training.</pre>"
      ],
      "text/plain": [
       "Starting brute force nearest neighbors model training."
      ]
     },
     "metadata": {},
     "output_type": "display_data"
    },
    {
     "data": {
      "text/html": [
       "<pre>Validating distance components.</pre>"
      ],
      "text/plain": [
       "Validating distance components."
      ]
     },
     "metadata": {},
     "output_type": "display_data"
    },
    {
     "data": {
      "text/html": [
       "<pre>Initializing model data.</pre>"
      ],
      "text/plain": [
       "Initializing model data."
      ]
     },
     "metadata": {},
     "output_type": "display_data"
    },
    {
     "data": {
      "text/html": [
       "<pre>Initializing distances.</pre>"
      ],
      "text/plain": [
       "Initializing distances."
      ]
     },
     "metadata": {},
     "output_type": "display_data"
    },
    {
     "data": {
      "text/html": [
       "<pre>Done.</pre>"
      ],
      "text/plain": [
       "Done."
      ]
     },
     "metadata": {},
     "output_type": "display_data"
    }
   ],
   "source": [
    "cat_model = tc.nearest_neighbors.create(cat_img_train,label='id', features=['deep_features'] )"
   ]
  },
  {
   "cell_type": "code",
   "execution_count": 34,
   "metadata": {},
   "outputs": [
    {
     "data": {
      "text/html": [
       "<pre>Starting brute force nearest neighbors model training.</pre>"
      ],
      "text/plain": [
       "Starting brute force nearest neighbors model training."
      ]
     },
     "metadata": {},
     "output_type": "display_data"
    },
    {
     "data": {
      "text/html": [
       "<pre>Validating distance components.</pre>"
      ],
      "text/plain": [
       "Validating distance components."
      ]
     },
     "metadata": {},
     "output_type": "display_data"
    },
    {
     "data": {
      "text/html": [
       "<pre>Initializing model data.</pre>"
      ],
      "text/plain": [
       "Initializing model data."
      ]
     },
     "metadata": {},
     "output_type": "display_data"
    },
    {
     "data": {
      "text/html": [
       "<pre>Initializing distances.</pre>"
      ],
      "text/plain": [
       "Initializing distances."
      ]
     },
     "metadata": {},
     "output_type": "display_data"
    },
    {
     "data": {
      "text/html": [
       "<pre>Done.</pre>"
      ],
      "text/plain": [
       "Done."
      ]
     },
     "metadata": {},
     "output_type": "display_data"
    }
   ],
   "source": [
    "dog_model = tc.nearest_neighbors.create(dog_img_train, label='id', features=['deep_features'])"
   ]
  },
  {
   "cell_type": "code",
   "execution_count": 35,
   "metadata": {},
   "outputs": [
    {
     "data": {
      "text/html": [
       "<pre>Starting brute force nearest neighbors model training.</pre>"
      ],
      "text/plain": [
       "Starting brute force nearest neighbors model training."
      ]
     },
     "metadata": {},
     "output_type": "display_data"
    },
    {
     "data": {
      "text/html": [
       "<pre>Validating distance components.</pre>"
      ],
      "text/plain": [
       "Validating distance components."
      ]
     },
     "metadata": {},
     "output_type": "display_data"
    },
    {
     "data": {
      "text/html": [
       "<pre>Initializing model data.</pre>"
      ],
      "text/plain": [
       "Initializing model data."
      ]
     },
     "metadata": {},
     "output_type": "display_data"
    },
    {
     "data": {
      "text/html": [
       "<pre>Initializing distances.</pre>"
      ],
      "text/plain": [
       "Initializing distances."
      ]
     },
     "metadata": {},
     "output_type": "display_data"
    },
    {
     "data": {
      "text/html": [
       "<pre>Done.</pre>"
      ],
      "text/plain": [
       "Done."
      ]
     },
     "metadata": {},
     "output_type": "display_data"
    }
   ],
   "source": [
    "automobile_model = tc.nearest_neighbors.create(automobile_img_train, label='id', features=['deep_features'])"
   ]
  },
  {
   "cell_type": "code",
   "execution_count": 36,
   "metadata": {},
   "outputs": [
    {
     "data": {
      "text/html": [
       "<pre>Starting brute force nearest neighbors model training.</pre>"
      ],
      "text/plain": [
       "Starting brute force nearest neighbors model training."
      ]
     },
     "metadata": {},
     "output_type": "display_data"
    },
    {
     "data": {
      "text/html": [
       "<pre>Validating distance components.</pre>"
      ],
      "text/plain": [
       "Validating distance components."
      ]
     },
     "metadata": {},
     "output_type": "display_data"
    },
    {
     "data": {
      "text/html": [
       "<pre>Initializing model data.</pre>"
      ],
      "text/plain": [
       "Initializing model data."
      ]
     },
     "metadata": {},
     "output_type": "display_data"
    },
    {
     "data": {
      "text/html": [
       "<pre>Initializing distances.</pre>"
      ],
      "text/plain": [
       "Initializing distances."
      ]
     },
     "metadata": {},
     "output_type": "display_data"
    },
    {
     "data": {
      "text/html": [
       "<pre>Done.</pre>"
      ],
      "text/plain": [
       "Done."
      ]
     },
     "metadata": {},
     "output_type": "display_data"
    }
   ],
   "source": [
    "bird_model = tc.nearest_neighbors.create(bird_img_train, label='id', features=['deep_features'])"
   ]
  },
  {
   "cell_type": "code",
   "execution_count": 37,
   "metadata": {},
   "outputs": [
    {
     "data": {
      "text/html": [
       "<pre>Starting pairwise querying.</pre>"
      ],
      "text/plain": [
       "Starting pairwise querying."
      ]
     },
     "metadata": {},
     "output_type": "display_data"
    },
    {
     "data": {
      "text/html": [
       "<pre>+--------------+---------+-------------+--------------+</pre>"
      ],
      "text/plain": [
       "+--------------+---------+-------------+--------------+"
      ]
     },
     "metadata": {},
     "output_type": "display_data"
    },
    {
     "data": {
      "text/html": [
       "<pre>| Query points | # Pairs | % Complete. | Elapsed Time |</pre>"
      ],
      "text/plain": [
       "| Query points | # Pairs | % Complete. | Elapsed Time |"
      ]
     },
     "metadata": {},
     "output_type": "display_data"
    },
    {
     "data": {
      "text/html": [
       "<pre>+--------------+---------+-------------+--------------+</pre>"
      ],
      "text/plain": [
       "+--------------+---------+-------------+--------------+"
      ]
     },
     "metadata": {},
     "output_type": "display_data"
    },
    {
     "data": {
      "text/html": [
       "<pre>| 0            | 1       | 0.196464    | 20.815ms     |</pre>"
      ],
      "text/plain": [
       "| 0            | 1       | 0.196464    | 20.815ms     |"
      ]
     },
     "metadata": {},
     "output_type": "display_data"
    },
    {
     "data": {
      "text/html": [
       "<pre>| Done         |         | 100         | 87.705ms     |</pre>"
      ],
      "text/plain": [
       "| Done         |         | 100         | 87.705ms     |"
      ]
     },
     "metadata": {},
     "output_type": "display_data"
    },
    {
     "data": {
      "text/html": [
       "<pre>+--------------+---------+-------------+--------------+</pre>"
      ],
      "text/plain": [
       "+--------------+---------+-------------+--------------+"
      ]
     },
     "metadata": {},
     "output_type": "display_data"
    },
    {
     "data": {
      "text/html": [
       "<div style=\"max-height:1000px;max-width:1500px;overflow:auto;\"><table frame=\"box\" rules=\"cols\">\n",
       "    <tr>\n",
       "        <th style=\"padding-left: 1em; padding-right: 1em; text-align: center\">query_label</th>\n",
       "        <th style=\"padding-left: 1em; padding-right: 1em; text-align: center\">reference_label</th>\n",
       "        <th style=\"padding-left: 1em; padding-right: 1em; text-align: center\">distance</th>\n",
       "        <th style=\"padding-left: 1em; padding-right: 1em; text-align: center\">rank</th>\n",
       "    </tr>\n",
       "    <tr>\n",
       "        <td style=\"padding-left: 1em; padding-right: 1em; text-align: center; vertical-align: top\">0</td>\n",
       "        <td style=\"padding-left: 1em; padding-right: 1em; text-align: center; vertical-align: top\">16289</td>\n",
       "        <td style=\"padding-left: 1em; padding-right: 1em; text-align: center; vertical-align: top\">34.62371920804245</td>\n",
       "        <td style=\"padding-left: 1em; padding-right: 1em; text-align: center; vertical-align: top\">1</td>\n",
       "    </tr>\n",
       "    <tr>\n",
       "        <td style=\"padding-left: 1em; padding-right: 1em; text-align: center; vertical-align: top\">0</td>\n",
       "        <td style=\"padding-left: 1em; padding-right: 1em; text-align: center; vertical-align: top\">45646</td>\n",
       "        <td style=\"padding-left: 1em; padding-right: 1em; text-align: center; vertical-align: top\">36.00687992842462</td>\n",
       "        <td style=\"padding-left: 1em; padding-right: 1em; text-align: center; vertical-align: top\">2</td>\n",
       "    </tr>\n",
       "    <tr>\n",
       "        <td style=\"padding-left: 1em; padding-right: 1em; text-align: center; vertical-align: top\">0</td>\n",
       "        <td style=\"padding-left: 1em; padding-right: 1em; text-align: center; vertical-align: top\">32139</td>\n",
       "        <td style=\"padding-left: 1em; padding-right: 1em; text-align: center; vertical-align: top\">36.52008134363789</td>\n",
       "        <td style=\"padding-left: 1em; padding-right: 1em; text-align: center; vertical-align: top\">3</td>\n",
       "    </tr>\n",
       "    <tr>\n",
       "        <td style=\"padding-left: 1em; padding-right: 1em; text-align: center; vertical-align: top\">0</td>\n",
       "        <td style=\"padding-left: 1em; padding-right: 1em; text-align: center; vertical-align: top\">25713</td>\n",
       "        <td style=\"padding-left: 1em; padding-right: 1em; text-align: center; vertical-align: top\">36.754850252057054</td>\n",
       "        <td style=\"padding-left: 1em; padding-right: 1em; text-align: center; vertical-align: top\">4</td>\n",
       "    </tr>\n",
       "    <tr>\n",
       "        <td style=\"padding-left: 1em; padding-right: 1em; text-align: center; vertical-align: top\">0</td>\n",
       "        <td style=\"padding-left: 1em; padding-right: 1em; text-align: center; vertical-align: top\">331</td>\n",
       "        <td style=\"padding-left: 1em; padding-right: 1em; text-align: center; vertical-align: top\">36.87312281675268</td>\n",
       "        <td style=\"padding-left: 1em; padding-right: 1em; text-align: center; vertical-align: top\">5</td>\n",
       "    </tr>\n",
       "</table>\n",
       "[5 rows x 4 columns]<br/>\n",
       "</div>"
      ],
      "text/plain": [
       "Columns:\n",
       "\tquery_label\tint\n",
       "\treference_label\tint\n",
       "\tdistance\tfloat\n",
       "\trank\tint\n",
       "\n",
       "Rows: 5\n",
       "\n",
       "Data:\n",
       "+-------------+-----------------+--------------------+------+\n",
       "| query_label | reference_label |      distance      | rank |\n",
       "+-------------+-----------------+--------------------+------+\n",
       "|      0      |      16289      | 34.62371920804245  |  1   |\n",
       "|      0      |      45646      | 36.00687992842462  |  2   |\n",
       "|      0      |      32139      | 36.52008134363789  |  3   |\n",
       "|      0      |      25713      | 36.754850252057054 |  4   |\n",
       "|      0      |       331       | 36.87312281675268  |  5   |\n",
       "+-------------+-----------------+--------------------+------+\n",
       "[5 rows x 4 columns]"
      ]
     },
     "execution_count": 37,
     "metadata": {},
     "output_type": "execute_result"
    }
   ],
   "source": [
    "cat_model.query(image_test[0:1])"
   ]
  },
  {
   "cell_type": "code",
   "execution_count": 38,
   "metadata": {},
   "outputs": [
    {
     "data": {
      "text/html": [
       "<pre>Starting pairwise querying.</pre>"
      ],
      "text/plain": [
       "Starting pairwise querying."
      ]
     },
     "metadata": {},
     "output_type": "display_data"
    },
    {
     "data": {
      "text/html": [
       "<pre>+--------------+---------+-------------+--------------+</pre>"
      ],
      "text/plain": [
       "+--------------+---------+-------------+--------------+"
      ]
     },
     "metadata": {},
     "output_type": "display_data"
    },
    {
     "data": {
      "text/html": [
       "<pre>| Query points | # Pairs | % Complete. | Elapsed Time |</pre>"
      ],
      "text/plain": [
       "| Query points | # Pairs | % Complete. | Elapsed Time |"
      ]
     },
     "metadata": {},
     "output_type": "display_data"
    },
    {
     "data": {
      "text/html": [
       "<pre>+--------------+---------+-------------+--------------+</pre>"
      ],
      "text/plain": [
       "+--------------+---------+-------------+--------------+"
      ]
     },
     "metadata": {},
     "output_type": "display_data"
    },
    {
     "data": {
      "text/html": [
       "<pre>| 0            | 1       | 0.196464    | 13.685ms     |</pre>"
      ],
      "text/plain": [
       "| 0            | 1       | 0.196464    | 13.685ms     |"
      ]
     },
     "metadata": {},
     "output_type": "display_data"
    },
    {
     "data": {
      "text/html": [
       "<pre>| Done         |         | 100         | 74.213ms     |</pre>"
      ],
      "text/plain": [
       "| Done         |         | 100         | 74.213ms     |"
      ]
     },
     "metadata": {},
     "output_type": "display_data"
    },
    {
     "data": {
      "text/html": [
       "<pre>+--------------+---------+-------------+--------------+</pre>"
      ],
      "text/plain": [
       "+--------------+---------+-------------+--------------+"
      ]
     },
     "metadata": {},
     "output_type": "display_data"
    }
   ],
   "source": [
    "knn_cat = get_images_by_ids(cat_model.query(image_test[0:1]))"
   ]
  },
  {
   "cell_type": "code",
   "execution_count": 41,
   "metadata": {},
   "outputs": [
    {
     "data": {
      "text/html": [
       "<html lang=\"en\">                                                     <head>                                                               <style>                                                              .sframe {                                                            font-size: 12px;                                                   font-family: HelveticaNeue;                                        border: 1px solid silver;                                        }                                                                  .sframe thead th {                                                   background: #F7F7F7;                                               font-family: HelveticaNeue-Medium;                                 font-size: 14px;                                                   line-height: 16.8px;                                               padding-top: 16px;                                                 padding-bottom: 16px;                                              padding-left: 10px;                                                padding-right: 38px;                                               border-top: 1px solid #E9E9E9;                                     border-bottom: 1px solid #E9E9E9;                                  white-space: nowrap;                                               overflow: hidden;                                                  text-overflow:ellipsis;                                            text-align:center;                                                 font-weight:normal;                                              }                                                                  .sframe tbody th {                                                   background: #FFFFFF;                                               text-align:left;                                                   font-weight:normal;                                                border-right: 1px solid #E9E9E9;                                 }                                                                  .sframe td {                                                         background: #FFFFFF;                                               padding-left: 10px;                                                padding-right: 38px;                                               padding-top: 14px;                                                 padding-bottom: 14px;                                              border-bottom: 1px solid #E9E9E9;                                  max-height: 0px;                                                   transition: max-height 5s ease-out;                                vertical-align: middle;                                            font-family: HelveticaNeue;                                        font-size: 12px;                                                   line-height: 16.8px;                                               background: #FFFFFF;                                             }                                                                  .sframe tr {                                                         padding-left: 10px;                                                padding-right: 38px;                                               padding-top: 14px;                                                 padding-bottom: 14px;                                              border-bottom: 1px solid #E9E9E9;                                  max-height: 0px;                                                   transition: max-height 5s ease-out;                                vertical-align: middle;                                            font-family: HelveticaNeue;                                        font-size: 12px;                                                   line-height: 16.8px;                                               background: #FFFFFF;                                             }                                                                  .sframe tr:hover {                                                   background: silver;                                              },                                                               </style>                                                         </head>                                                            <body>                                                               <h1>  </h1>                                             <table border=\"1\" class=\"dataframe sframe\">\n",
       "  <thead>\n",
       "    <tr style=\"text-align: right;\">\n",
       "      <th></th>\n",
       "      <th>id</th>\n",
       "      <th>image</th>\n",
       "      <th>label</th>\n",
       "      <th>deep_features</th>\n",
       "      <th>image_array</th>\n",
       "    </tr>\n",
       "  </thead>\n",
       "  <tbody>\n",
       "    <tr>\n",
       "      <th>0</th>\n",
       "      <td>331</td>\n",
       "      <td><img src=\"data:image/png;base64,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\"/></td>\n",
       "      <td>cat</td>\n",
       "      <td>[0.0, 0.0, 0.5109639167785645, 0.0, 0.0, 0.0, 11.272439956665039, 0.0, 0.0, 0.0, 0.0, 0.0, 1.1253304481506348, 0.0, 0.5219167470932007, 0.5971229076385498, 0.0, 0.6972668170928955, 0.0, 0.24001091718673706, 0.0, 1.0731264352798462, 0.0, 0.0, 0.10970926284790039, 0.0, 0.0, 0.0, 0.0, 0.0, 0.0, 0.0, 0.0, 0.0, 0.0, 0.0, 0.0, 0.0, 1.6569366455078125, 0.0, 0.0, 0.0, 0.0, 1.0214426517486572, 0.0, 0.0, 0.0, 0.0, 0.0, 0.0, 0.0, 0.0, 0.0, 0.0, 0.0, 2.2922544479370117, 0.0, 0.0, 0.0, 0.0, 0.0, 0.0, 0.0, 2.8759312629699707, 0.8046186566352844, 0.0, 1.5726779699325562, 0.0, 0.0, 0.0, 0.0, 0.0, 2.1985647678375244, 0.0, 0.0, 2.738689422607422, 0.0, 0.0, 0.0, 0.48699140548706055, 0.023147881031036377, 0.0, 0.16829437017440796, 0.0, 0.0, 0.0, 0.0, 0.0, 0.0, 0.0, 0.0, 0.8470346331596375, 1.0001214742660522, 0.0, 0.0, 0.0, 0.0, 0.0, 0.0, 0.0, ...]</td>\n",
       "      <td>[45.0, 65.0, 92.0, 72.0, 95.0, 110.0, 106.0, 132.0, 129.0, 106.0, 132.0, 129.0, 109.0, 134.0, 131.0, 111.0, 137.0, 134.0, 111.0, 139.0, 135.0, 115.0, 145.0, 142.0, 91.0, 112.0, 107.0, 85.0, 100.0, 96.0, 92.0, 113.0, 110.0, 84.0, 102.0, 99.0, 116.0, 141.0, 138.0, 122.0, 148.0, 145.0, 122.0, 148.0, 145.0, 123.0, 148.0, 145.0, 122.0, 148.0, 145.0, 122.0, 148.0, 145.0, 122.0, 148.0, 145.0, 122.0, 148.0, 145.0, 122.0, 148.0, 145.0, 123.0, 148.0, 144.0, 123.0, 147.0, 144.0, 123.0, 147.0, 143.0, 122.0, 150.0, 146.0, 108.0, 104.0, 113.0, 93.0, 45.0, 73.0, 72.0, 38.0, 64.0, 41.0, 23.0, 43.0, 23.0, 18.0, 24.0, 36.0, 31.0, 20.0, 52.0, 44.0, 29.0, 46.0, 67.0, 96.0, 76.0, ...]</td>\n",
       "    </tr>\n",
       "    <tr>\n",
       "      <th>1</th>\n",
       "      <td>16289</td>\n",
       "      <td><img src=\"data:image/png;base64,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\"/></td>\n",
       "      <td>cat</td>\n",
       "      <td>[0.964287519454956, 0.0, 0.0, 0.0, 1.1251550912857056, 0.0, 9.312150955200195, 0.0, 0.0, 0.0, 0.0, 0.0, 1.9964497089385986, 0.20313739776611328, 0.0, 1.9780253171920776, 0.8170939683914185, 0.0, 0.0, 0.0, 0.0, 1.7009224891662598, 0.5013698935508728, 0.0, 0.0, 0.0, 1.9672785997390747, 0.0, 0.0, 0.0, 0.0, 1.1179927587509155, 0.12306243181228638, 0.0, 0.0, 0.013147711753845215, 0.0, 0.0, 1.0392909049987793, 0.9930934309959412, 0.0, 0.0, 0.22333812713623047, 0.009367823600769043, 0.0, 0.0, 0.0, 0.0, 0.13046950101852417, 0.0, 0.0, 0.0, 0.0, 0.0, 0.0, 0.0, 0.5344581604003906, 0.0, 0.0, 0.0, 1.211628794670105, 0.0, 0.0, 0.6291561126708984, 0.35370469093322754, 0.5080443620681763, 2.374500274658203, 0.0, 0.0, 0.0, 0.0, 0.0, 0.6534329056739807, 0.0, 0.0, 2.430657386779785, 0.0, 0.0, 0.0, 0.11062061786651611, 0.4345150589942932, 0.0, 0.0, 0.1659744381904602, 0.0, 0.0, 0.0, 0.0, 0.0, 0.0, 0.0, 0.025784790515899658, 0.5490762591362, 0.21386826038360596, 0.0, 0.0, 0.0, 0.0, 0.0, 0.0, ...]</td>\n",
       "      <td>[215.0, 219.0, 231.0, 215.0, 219.0, 232.0, 216.0, 219.0, 233.0, 214.0, 217.0, 230.0, 213.0, 216.0, 230.0, 209.0, 215.0, 226.0, 208.0, 217.0, 221.0, 206.0, 215.0, 219.0, 201.0, 208.0, 217.0, 197.0, 203.0, 218.0, 194.0, 200.0, 221.0, 199.0, 204.0, 221.0, 142.0, 128.0, 131.0, 76.0, 46.0, 46.0, 81.0, 55.0, 57.0, 147.0, 136.0, 139.0, 160.0, 149.0, 154.0, 152.0, 141.0, 144.0, 156.0, 147.0, 150.0, 159.0, 148.0, 154.0, 160.0, 153.0, 157.0, 164.0, 156.0, 160.0, 160.0, 154.0, 158.0, 158.0, 151.0, 156.0, 159.0, 149.0, 157.0, 159.0, 150.0, 156.0, 157.0, 147.0, 154.0, 156.0, 145.0, 153.0, 152.0, 142.0, 149.0, 147.0, 137.0, 143.0, 141.0, 131.0, 136.0, 142.0, 131.0, 136.0, 215.0, 219.0, 231.0, 215.0, ...]</td>\n",
       "    </tr>\n",
       "    <tr>\n",
       "      <th>2</th>\n",
       "      <td>25713</td>\n",
       "      <td><img src=\"data:image/png;base64,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\"/></td>\n",
       "      <td>cat</td>\n",
       "      <td>[0.5369712710380554, 0.0, 0.0, 0.08944588899612427, 0.2364743947982788, 0.3688161373138428, 9.64945125579834, 0.0, 0.0, 0.0, 0.0, 0.0, 1.345590353012085, 0.7391354441642761, 0.0, 0.0, 0.4072381854057312, 0.8558321595191956, 0.0, 0.0, 0.0, 1.1061797142028809, 0.0, 0.0, 0.0, 0.13240057229995728, 0.1410961151123047, 0.0, 0.0, 0.0, 0.0, 0.7048135995864868, 0.0, 0.0, 0.0, 0.24006950855255127, 0.0, 0.0, 0.6994016766548157, 1.6008036136627197, 0.0, 0.0, 0.0, 0.0, 0.23141270875930786, 0.0, 0.0, 0.0, 0.9568823575973511, 0.0, 0.0, 0.0, 0.0, 0.0, 0.0, 0.0, 0.0, 0.0, 0.0, 0.0, 0.0, 0.04671293497085571, 0.0, 0.6259481906890869, 0.0, 0.0, 2.228186845779419, 0.0, 0.0, 0.0683944821357727, 0.0, 0.0, 0.8954511880874634, 0.0, 0.0, 1.9295697212219238, 0.0, 0.0, 0.0, 1.2897069454193115, 0.0, 0.0, 0.0, 0.0, 0.0, 0.0, 0.011481404304504395, 0.0, 0.0, 0.0, 0.0, 1.0821210145950317, 0.0, 1.7598038911819458, 0.0, 0.0, 0.0, 0.0, 0.0, 0.0, ...]</td>\n",
       "      <td>[228.0, 222.0, 236.0, 224.0, 213.0, 222.0, 212.0, 206.0, 207.0, 209.0, 202.0, 202.0, 210.0, 198.0, 199.0, 212.0, 199.0, 196.0, 203.0, 187.0, 181.0, 134.0, 116.0, 104.0, 137.0, 111.0, 87.0, 165.0, 132.0, 98.0, 170.0, 137.0, 99.0, 166.0, 132.0, 99.0, 181.0, 137.0, 124.0, 209.0, 189.0, 185.0, 199.0, 194.0, 195.0, 197.0, 188.0, 189.0, 199.0, 188.0, 186.0, 196.0, 186.0, 184.0, 193.0, 183.0, 181.0, 191.0, 181.0, 179.0, 185.0, 180.0, 176.0, 190.0, 171.0, 172.0, 173.0, 134.0, 142.0, 183.0, 148.0, 154.0, 179.0, 148.0, 152.0, 174.0, 139.0, 145.0, 174.0, 145.0, 149.0, 161.0, 141.0, 143.0, 159.0, 146.0, 143.0, 141.0, 129.0, 123.0, 87.0, 73.0, 71.0, 50.0, 43.0, 44.0, 233.0, 228.0, 241.0, 224.0, ...]</td>\n",
       "    </tr>\n",
       "    <tr>\n",
       "      <th>3</th>\n",
       "      <td>32139</td>\n",
       "      <td><img src=\"data:image/png;base64,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\"/></td>\n",
       "      <td>cat</td>\n",
       "      <td>[1.2940946817398071, 0.0, 0.0, 0.5138002634048462, 0.10639220476150513, 0.1446278691291809, 10.140267372131348, 0.0, 0.0, 0.0, 0.0, 0.0, 0.9555401802062988, 0.0, 0.0, 2.1158101558685303, 1.1705187559127808, 0.6677833795547485, 1.98772132396698, 0.8457062244415283, 0.0, 0.5588163137435913, 0.9472996592521667, 0.0, 0.0, 0.012801527976989746, 0.0, 0.0, 0.0, 0.0, 0.0, 2.178612232208252, 0.31960469484329224, 0.0, 0.0, 0.0, 0.0, 0.0, 0.0, 1.32429838180542, 0.0, 0.0, 0.35194075107574463, 0.0, 1.3836069107055664, 0.0, 0.0, 0.0, 1.824205756187439, 0.0, 0.0, 0.0, 0.0, 0.0, 0.307547390460968, 0.0, 1.1079696416854858, 0.0, 0.0, 0.0, 0.8558799028396606, 0.0, 0.0, 0.9826311469078064, 0.7941820621490479, 0.0, 1.063296914100647, 0.0, 0.0, 0.16845232248306274, 0.35178589820861816, 0.0, 2.065922975540161, 0.0, 0.0, 2.7262861728668213, 0.0, 0.0, 0.0, 1.270354986190796, 0.0, 0.0, 0.0, 0.0, 1.1070209741592407, 0.019249558448791504, 0.0, 0.0, 0.0, 0.0, 0.0, 1.3375438451766968, 0.3137577772140503, 0.0, 0.0, 0.0, 0.0, 0.0, 0.0, 0.0, ...]</td>\n",
       "      <td>[217.0, 220.0, 205.0, 221.0, 227.0, 218.0, 195.0, 209.0, 205.0, 156.0, 176.0, 170.0, 150.0, 163.0, 149.0, 128.0, 138.0, 125.0, 124.0, 129.0, 121.0, 164.0, 165.0, 157.0, 228.0, 228.0, 224.0, 235.0, 239.0, 239.0, 214.0, 225.0, 223.0, 176.0, 196.0, 195.0, 196.0, 223.0, 228.0, 204.0, 228.0, 240.0, 216.0, 229.0, 237.0, 217.0, 217.0, 215.0, 235.0, 232.0, 228.0, 236.0, 239.0, 238.0, 236.0, 237.0, 239.0, 234.0, 236.0, 241.0, 216.0, 227.0, 234.0, 193.0, 214.0, 223.0, 182.0, 209.0, 218.0, 180.0, 209.0, 213.0, 189.0, 223.0, 229.0, 200.0, 233.0, 242.0, 212.0, 235.0, 238.0, 224.0, 236.0, 232.0, 227.0, 231.0, 230.0, 226.0, 230.0, 229.0, 226.0, 230.0, 229.0, 222.0, 227.0, 226.0, 222.0, 235.0, 221.0, 228.0, ...]</td>\n",
       "    </tr>\n",
       "    <tr>\n",
       "      <th>4</th>\n",
       "      <td>45646</td>\n",
       "      <td><img src=\"data:image/png;base64,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\"/></td>\n",
       "      <td>cat</td>\n",
       "      <td>[0.9836775064468384, 0.0, 0.0, 0.0, 0.0, 0.19208455085754395, 9.89628791809082, 0.0, 0.0, 0.0, 0.0, 0.0, 0.0, 0.0, 0.2129918336868286, 3.083840847015381, 0.09621626138687134, 0.6561030149459839, 0.0, 0.0, 0.0, 0.1017729640007019, 0.0, 0.0, 0.06048959493637085, 0.13559776544570923, 0.9450205564498901, 0.0, 0.0, 0.0, 1.1398426294326782, 2.3693294525146484, 0.0, 0.0, 0.0, 0.9844647645950317, 0.0, 0.0, 0.0, 0.0, 0.0, 0.0, 0.15942686796188354, 0.18626517057418823, 0.0, 0.9405862092971802, 0.0, 0.0, 0.0, 0.0, 0.0, 0.0, 0.0, 0.0, 0.0, 0.0, 0.0, 0.0, 0.0, 0.0, 1.171266794204712, 0.0, 0.0, 0.2348191738128662, 0.0, 0.0, 0.7265492677688599, 0.0, 0.0, 0.0, 0.0, 0.0, 2.88093638420105, 0.0, 0.0, 1.5404434204101562, 0.0, 0.0, 0.0, 0.9231166243553162, 0.0, 0.0, 0.0, 0.0, 0.0, 0.0, 0.0, 0.0, 0.0, 0.0, 0.0, 2.268629312515259, 1.160374402999878, 1.7861747741699219, 0.0, 0.0, 0.0, 0.0, 0.0, 0.0, ...]</td>\n",
       "      <td>[51.0, 42.0, 26.0, 56.0, 47.0, 31.0, 59.0, 50.0, 34.0, 60.0, 50.0, 34.0, 63.0, 53.0, 37.0, 64.0, 55.0, 38.0, 64.0, 56.0, 37.0, 68.0, 60.0, 41.0, 71.0, 63.0, 45.0, 72.0, 64.0, 45.0, 73.0, 64.0, 46.0, 75.0, 67.0, 49.0, 77.0, 69.0, 50.0, 79.0, 70.0, 52.0, 79.0, 71.0, 53.0, 78.0, 70.0, 52.0, 71.0, 61.0, 42.0, 35.0, 21.0, 11.0, 25.0, 10.0, 4.0, 59.0, 48.0, 32.0, 118.0, 115.0, 93.0, 122.0, 123.0, 106.0, 76.0, 69.0, 51.0, 79.0, 70.0, 51.0, 78.0, 70.0, 51.0, 76.0, 68.0, 50.0, 78.0, 70.0, 52.0, 76.0, 69.0, 50.0, 70.0, 63.0, 44.0, 64.0, 58.0, 39.0, 59.0, 52.0, 35.0, 52.0, 42.0, 31.0, 57.0, 48.0, 32.0, 61.0, ...]</td>\n",
       "    </tr>\n",
       "  </tbody>\n",
       "</table>                          </body>                                                          </html>"
      ],
      "text/plain": [
       "<IPython.core.display.HTML object>"
      ]
     },
     "metadata": {},
     "output_type": "display_data"
    }
   ],
   "source": [
    "knn_cat.explore()"
   ]
  },
  {
   "cell_type": "code",
   "execution_count": 42,
   "metadata": {},
   "outputs": [
    {
     "data": {
      "text/html": [
       "<pre>Starting pairwise querying.</pre>"
      ],
      "text/plain": [
       "Starting pairwise querying."
      ]
     },
     "metadata": {},
     "output_type": "display_data"
    },
    {
     "data": {
      "text/html": [
       "<pre>+--------------+---------+-------------+--------------+</pre>"
      ],
      "text/plain": [
       "+--------------+---------+-------------+--------------+"
      ]
     },
     "metadata": {},
     "output_type": "display_data"
    },
    {
     "data": {
      "text/html": [
       "<pre>| Query points | # Pairs | % Complete. | Elapsed Time |</pre>"
      ],
      "text/plain": [
       "| Query points | # Pairs | % Complete. | Elapsed Time |"
      ]
     },
     "metadata": {},
     "output_type": "display_data"
    },
    {
     "data": {
      "text/html": [
       "<pre>+--------------+---------+-------------+--------------+</pre>"
      ],
      "text/plain": [
       "+--------------+---------+-------------+--------------+"
      ]
     },
     "metadata": {},
     "output_type": "display_data"
    },
    {
     "data": {
      "text/html": [
       "<pre>| 0            | 1       | 0.196464    | 23.891ms     |</pre>"
      ],
      "text/plain": [
       "| 0            | 1       | 0.196464    | 23.891ms     |"
      ]
     },
     "metadata": {},
     "output_type": "display_data"
    },
    {
     "data": {
      "text/html": [
       "<pre>| Done         |         | 100         | 87.01ms      |</pre>"
      ],
      "text/plain": [
       "| Done         |         | 100         | 87.01ms      |"
      ]
     },
     "metadata": {},
     "output_type": "display_data"
    },
    {
     "data": {
      "text/html": [
       "<pre>+--------------+---------+-------------+--------------+</pre>"
      ],
      "text/plain": [
       "+--------------+---------+-------------+--------------+"
      ]
     },
     "metadata": {},
     "output_type": "display_data"
    }
   ],
   "source": [
    "knn_dog = get_images_by_ids(dog_model.query(image_test[0:1]))"
   ]
  },
  {
   "cell_type": "code",
   "execution_count": 43,
   "metadata": {},
   "outputs": [
    {
     "data": {
      "text/html": [
       "<html lang=\"en\">                                                     <head>                                                               <style>                                                              .sframe {                                                            font-size: 12px;                                                   font-family: HelveticaNeue;                                        border: 1px solid silver;                                        }                                                                  .sframe thead th {                                                   background: #F7F7F7;                                               font-family: HelveticaNeue-Medium;                                 font-size: 14px;                                                   line-height: 16.8px;                                               padding-top: 16px;                                                 padding-bottom: 16px;                                              padding-left: 10px;                                                padding-right: 38px;                                               border-top: 1px solid #E9E9E9;                                     border-bottom: 1px solid #E9E9E9;                                  white-space: nowrap;                                               overflow: hidden;                                                  text-overflow:ellipsis;                                            text-align:center;                                                 font-weight:normal;                                              }                                                                  .sframe tbody th {                                                   background: #FFFFFF;                                               text-align:left;                                                   font-weight:normal;                                                border-right: 1px solid #E9E9E9;                                 }                                                                  .sframe td {                                                         background: #FFFFFF;                                               padding-left: 10px;                                                padding-right: 38px;                                               padding-top: 14px;                                                 padding-bottom: 14px;                                              border-bottom: 1px solid #E9E9E9;                                  max-height: 0px;                                                   transition: max-height 5s ease-out;                                vertical-align: middle;                                            font-family: HelveticaNeue;                                        font-size: 12px;                                                   line-height: 16.8px;                                               background: #FFFFFF;                                             }                                                                  .sframe tr {                                                         padding-left: 10px;                                                padding-right: 38px;                                               padding-top: 14px;                                                 padding-bottom: 14px;                                              border-bottom: 1px solid #E9E9E9;                                  max-height: 0px;                                                   transition: max-height 5s ease-out;                                vertical-align: middle;                                            font-family: HelveticaNeue;                                        font-size: 12px;                                                   line-height: 16.8px;                                               background: #FFFFFF;                                             }                                                                  .sframe tr:hover {                                                   background: silver;                                              },                                                               </style>                                                         </head>                                                            <body>                                                               <h1>  </h1>                                             <table border=\"1\" class=\"dataframe sframe\">\n",
       "  <thead>\n",
       "    <tr style=\"text-align: right;\">\n",
       "      <th></th>\n",
       "      <th>id</th>\n",
       "      <th>image</th>\n",
       "      <th>label</th>\n",
       "      <th>deep_features</th>\n",
       "      <th>image_array</th>\n",
       "    </tr>\n",
       "  </thead>\n",
       "  <tbody>\n",
       "    <tr>\n",
       "      <th>0</th>\n",
       "      <td>6094</td>\n",
       "      <td><img src=\"data:image/png;base64,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\"/></td>\n",
       "      <td>dog</td>\n",
       "      <td>[0.470533549785614, 0.0, 0.0, 0.0, 0.0, 0.0, 9.278953552246094, 0.0, 0.0, 0.0, 0.0, 0.0, 0.0, 0.0, 0.0, 0.22425848245620728, 0.0, 0.6744542717933655, 0.0, 1.6140201091766357, 0.0, 2.0357017517089844, 0.0, 0.0, 0.0, 0.0, 0.0, 0.0, 0.0, 0.0, 0.0, 0.0, 0.0, 0.0, 0.0, 0.0, 0.0, 0.0, 3.427365779876709, 0.568508505821228, 0.0, 0.0, 1.7979466915130615, 1.4885543584823608, 0.0, 0.0, 0.0, 0.0, 0.0, 0.0, 0.0, 0.0, 0.0, 0.0, 0.0, 0.0, 0.0, 0.0, 0.0, 0.0, 0.44374212622642517, 0.0, 0.0, 0.0, 0.0, 0.0, 1.018580436706543, 0.0, 0.0, 0.0, 0.0, 0.0, 2.99509596824646, 0.0, 0.0, 0.4832870364189148, 0.0, 0.3561042547225952, 0.0, 2.4157166481018066, 1.0644227266311646, 0.0, 0.0, 0.0, 0.0, 0.0, 0.0, 0.0, 0.0, 0.0, 0.0, 5.040470600128174, 0.8788043856620789, 0.0, 0.0, 0.0, 0.0, 0.0, 0.0, 0.0, ...]</td>\n",
       "      <td>[91.0, 98.0, 71.0, 138.0, 123.0, 63.0, 135.0, 115.0, 50.0, 116.0, 99.0, 54.0, 118.0, 101.0, 54.0, 114.0, 99.0, 56.0, 101.0, 86.0, 55.0, 100.0, 88.0, 62.0, 95.0, 86.0, 58.0, 93.0, 84.0, 56.0, 93.0, 84.0, 56.0, 102.0, 91.0, 67.0, 114.0, 99.0, 80.0, 121.0, 101.0, 71.0, 124.0, 96.0, 59.0, 122.0, 88.0, 49.0, 123.0, 88.0, 47.0, 124.0, 94.0, 56.0, 117.0, 91.0, 55.0, 125.0, 95.0, 57.0, 122.0, 90.0, 49.0, 114.0, 86.0, 49.0, 110.0, 86.0, 51.0, 109.0, 79.0, 42.0, 100.0, 70.0, 27.0, 99.0, 74.0, 29.0, 104.0, 73.0, 29.0, 117.0, 79.0, 29.0, 138.0, 96.0, 37.0, 139.0, 94.0, 41.0, 131.0, 92.0, 43.0, 105.0, 74.0, 29.0, 96.0, 102.0, 70.0, 126.0, ...]</td>\n",
       "    </tr>\n",
       "    <tr>\n",
       "      <th>1</th>\n",
       "      <td>13387</td>\n",
       "      <td><img src=\"data:image/png;base64,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\"/></td>\n",
       "      <td>dog</td>\n",
       "      <td>[0.36649417877197266, 0.0, 0.0, 0.0, 0.0, 0.0, 8.915741920471191, 0.0, 0.0, 0.0, 0.0, 0.0, 1.5137600898742676, 0.0, 0.0, 0.673179030418396, 0.0, 0.0, 0.0, 0.0, 0.0, 1.791056752204895, 0.0, 0.0, 0.0, 0.0, 0.0, 0.25842756032943726, 0.0, 0.0, 0.0, 0.24773627519607544, 0.06141239404678345, 0.0, 0.0, 0.0, 0.0, 0.0, 1.0704283714294434, 1.1447938680648804, 0.0, 0.0, 0.0, 0.0, 0.0, 0.0, 0.0, 0.0, 0.13471126556396484, 0.0, 0.0, 0.0, 0.0, 0.0, 0.0, 0.0, 0.0, 0.0, 0.0, 0.0, 0.0, 0.0, 0.0, 0.9594002962112427, 0.703919529914856, 0.31422656774520874, 2.0758111476898193, 0.0, 0.0, 0.0, 0.0, 0.0, 1.373142957687378, 0.0, 0.0, 2.209083080291748, 0.0, 0.0, 0.0, 0.7403751611709595, 0.2639371156692505, 0.0, 0.0, 0.0, 0.0, 0.0, 0.0, 0.0, 0.0, 0.0, 0.0, 1.3191516399383545, 0.9088151454925537, 0.21029609441757202, 0.0, 0.0, 0.0, 0.0, 0.0, 0.0, ...]</td>\n",
       "      <td>[255.0, 255.0, 255.0, 255.0, 255.0, 255.0, 255.0, 255.0, 255.0, 255.0, 255.0, 255.0, 255.0, 255.0, 255.0, 255.0, 255.0, 255.0, 255.0, 255.0, 255.0, 255.0, 255.0, 255.0, 255.0, 255.0, 255.0, 255.0, 255.0, 255.0, 255.0, 255.0, 255.0, 255.0, 255.0, 255.0, 253.0, 254.0, 254.0, 253.0, 253.0, 253.0, 250.0, 249.0, 249.0, 249.0, 248.0, 248.0, 248.0, 248.0, 247.0, 248.0, 245.0, 240.0, 247.0, 239.0, 229.0, 243.0, 226.0, 205.0, 227.0, 204.0, 176.0, 219.0, 201.0, 178.0, 219.0, 202.0, 183.0, 216.0, 196.0, 180.0, 207.0, 186.0, 176.0, 195.0, 182.0, 173.0, 183.0, 170.0, 161.0, 179.0, 166.0, 154.0, 175.0, 161.0, 147.0, 176.0, 160.0, 149.0, 183.0, 162.0, 155.0, 155.0, 140.0, 133.0, 255.0, 255.0, 255.0, 242.0, ...]</td>\n",
       "    </tr>\n",
       "    <tr>\n",
       "      <th>2</th>\n",
       "      <td>16976</td>\n",
       "      <td><img src=\"data:image/png;base64,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\"/></td>\n",
       "      <td>dog</td>\n",
       "      <td>[0.7555953860282898, 0.0, 0.0, 0.0, 0.0, 0.0, 9.460389137268066, 0.12622767686843872, 0.0, 0.0, 0.0, 0.0, 0.0, 0.0, 0.0, 0.09528166055679321, 0.0, 0.4171280264854431, 0.0, 0.0, 0.0, 0.08742207288742065, 0.0, 0.0, 0.0, 0.0, 0.5559314489364624, 0.0, 0.0, 0.0, 0.0, 0.0, 0.0, 0.0, 0.0, 0.0, 0.0, 0.0, 2.4493837356567383, 0.24993890523910522, 0.0, 0.0, 0.5614703893661499, 0.0, 0.0, 0.0, 0.0, 0.0, 0.0, 0.0, 0.0, 0.0, 0.0, 0.0, 0.0, 0.0, 0.0, 0.0, 0.0, 0.0, 0.6808208227157593, 0.0, 0.0, 0.0, 0.127973735332489, 0.0, 0.0, 0.0, 0.0, 0.0, 0.0, 0.0, 2.1695382595062256, 0.0, 0.0, 0.9742746353149414, 0.0, 0.0, 0.0, 0.8248510956764221, 2.490147113800049, 0.0, 0.0, 0.0, 0.0, 0.0, 0.0, 0.0, 0.0, 0.0, 0.0, 3.3068113327026367, 0.5234540700912476, 0.16325676441192627, 0.0, 0.0, 0.0, 0.0, 0.0, 0.0, ...]</td>\n",
       "      <td>[16.0, 17.0, 11.0, 18.0, 19.0, 13.0, 20.0, 21.0, 15.0, 24.0, 25.0, 19.0, 26.0, 27.0, 21.0, 22.0, 23.0, 17.0, 19.0, 20.0, 14.0, 19.0, 20.0, 15.0, 16.0, 17.0, 12.0, 12.0, 13.0, 8.0, 11.0, 12.0, 8.0, 28.0, 17.0, 6.0, 88.0, 44.0, 8.0, 84.0, 41.0, 13.0, 84.0, 46.0, 31.0, 91.0, 51.0, 34.0, 97.0, 56.0, 36.0, 101.0, 61.0, 40.0, 85.0, 51.0, 33.0, 74.0, 45.0, 28.0, 79.0, 47.0, 29.0, 92.0, 54.0, 35.0, 96.0, 53.0, 33.0, 103.0, 58.0, 34.0, 86.0, 48.0, 27.0, 86.0, 52.0, 34.0, 107.0, 68.0, 51.0, 90.0, 61.0, 48.0, 101.0, 93.0, 92.0, 116.0, 130.0, 145.0, 103.0, 110.0, 123.0, 98.0, 94.0, 100.0, 12.0, 13.0, 9.0, 15.0, ...]</td>\n",
       "    </tr>\n",
       "    <tr>\n",
       "      <th>3</th>\n",
       "      <td>35867</td>\n",
       "      <td><img src=\"data:image/png;base64,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\"/></td>\n",
       "      <td>dog</td>\n",
       "      <td>[0.3053213953971863, 0.0, 0.0, 0.0, 0.0, 0.0, 10.270342826843262, 0.0, 0.0, 0.0, 0.0, 0.0, 0.052599430084228516, 0.0, 0.0, 0.2573022246360779, 0.6792861223220825, 0.0, 0.0, 0.0, 0.0, 0.9915177226066589, 0.0, 0.0, 0.0, 0.0, 0.9436367154121399, 0.0, 0.0, 0.0, 0.0, 0.7134379148483276, 0.0, 0.0, 0.0, 0.0, 0.0, 0.0, 1.6682134866714478, 1.4921457767486572, 0.0, 0.0, 0.5767074823379517, 0.0, 0.9919116497039795, 0.0, 0.5379489064216614, 0.0, 0.0, 0.0, 0.0, 0.0, 0.0, 0.0, 0.02899336814880371, 0.0, 0.0, 0.0, 0.0, 0.0, 0.3734930753707886, 0.0, 0.0, 0.22424983978271484, 0.8927107453346252, 0.0, 1.1462535858154297, 0.0, 0.0, 0.0, 0.0, 0.0, 2.1615233421325684, 0.0, 0.0, 1.6773409843444824, 0.0, 0.0, 0.0, 1.5679783821105957, 1.0204174518585205, 0.0, 0.0, 0.0, 0.0, 0.0, 0.0, 0.0, 0.0, 0.0, 0.0, 0.6274443864822388, 0.0, 0.8556362390518188, 0.0, 0.0, 0.0, 0.0, 0.0, 0.0, ...]</td>\n",
       "      <td>[101.0, 93.0, 9.0, 93.0, 88.0, 9.0, 90.0, 86.0, 9.0, 99.0, 92.0, 9.0, 113.0, 101.0, 10.0, 127.0, 109.0, 13.0, 128.0, 107.0, 15.0, 118.0, 101.0, 12.0, 113.0, 101.0, 11.0, 123.0, 108.0, 12.0, 131.0, 110.0, 12.0, 143.0, 118.0, 26.0, 117.0, 98.0, 61.0, 75.0, 60.0, 25.0, 139.0, 113.0, 15.0, 154.0, 122.0, 15.0, 155.0, 123.0, 15.0, 157.0, 126.0, 14.0, 158.0, 128.0, 15.0, 157.0, 126.0, 15.0, 150.0, 123.0, 15.0, 132.0, 110.0, 15.0, 60.0, 50.0, 11.0, 33.0, 26.0, 8.0, 94.0, 80.0, 10.0, 124.0, 109.0, 10.0, 121.0, 107.0, 12.0, 123.0, 107.0, 10.0, 124.0, 106.0, 11.0, 134.0, 111.0, 14.0, 141.0, 114.0, 14.0, 139.0, 112.0, 13.0, 122.0, 106.0, 13.0, 108.0, ...]</td>\n",
       "    </tr>\n",
       "    <tr>\n",
       "      <th>4</th>\n",
       "      <td>44603</td>\n",
       "      <td><img src=\"data:image/png;base64,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\"/></td>\n",
       "      <td>dog</td>\n",
       "      <td>[0.0, 0.0, 0.0, 0.0, 0.0, 0.0, 11.264665603637695, 0.0, 0.0, 0.0, 0.0, 0.0, 0.45022761821746826, 0.0, 0.0, 1.2494454383850098, 0.0, 0.4171558618545532, 0.0, 0.8781725168228149, 0.0, 1.8270928859710693, 0.0, 0.0, 0.0, 0.0, 0.0, 0.0, 0.0, 0.0, 0.0, 0.0, 0.0, 0.0, 0.0, 0.0, 0.0, 0.0, 2.0867772102355957, 1.900970697402954, 0.0, 0.0, 0.42939627170562744, 0.0, 0.0, 0.4707990884780884, 0.0, 0.0, 0.0, 0.0, 0.0, 0.0, 0.0, 0.0, 0.0, 0.0, 0.0, 0.0, 0.0, 0.0, 0.0, 0.0, 0.0, 0.0, 0.0, 0.0, 1.2619504928588867, 0.0, 0.0, 0.0, 0.0, 0.0, 3.6519925594329834, 0.0, 0.0, 0.6343458294868469, 0.0, 0.0, 0.0, 0.8004391193389893, 0.0, 0.0, 0.0, 0.0, 0.0, 0.0, 0.0, 0.0, 0.0, 0.0, 0.0, 2.783859968185425, 0.46509844064712524, 1.5115211009979248, 0.0, 0.0, 0.0, 0.0, 0.0, 0.0, ...]</td>\n",
       "      <td>[8.0, 25.0, 9.0, 29.0, 39.0, 22.0, 66.0, 75.0, 53.0, 70.0, 82.0, 57.0, 75.0, 87.0, 64.0, 76.0, 85.0, 67.0, 50.0, 60.0, 41.0, 68.0, 79.0, 59.0, 78.0, 90.0, 69.0, 76.0, 88.0, 66.0, 77.0, 85.0, 66.0, 69.0, 76.0, 58.0, 57.0, 66.0, 45.0, 61.0, 71.0, 47.0, 60.0, 71.0, 45.0, 57.0, 68.0, 42.0, 52.0, 62.0, 38.0, 41.0, 51.0, 27.0, 39.0, 49.0, 25.0, 39.0, 49.0, 25.0, 46.0, 56.0, 32.0, 56.0, 66.0, 43.0, 55.0, 65.0, 41.0, 45.0, 55.0, 31.0, 47.0, 57.0, 33.0, 42.0, 52.0, 28.0, 34.0, 44.0, 18.0, 22.0, 32.0, 7.0, 14.0, 24.0, 4.0, 12.0, 20.0, 5.0, 7.0, 15.0, 4.0, 3.0, 9.0, 2.0, 14.0, 29.0, 13.0, 27.0, ...]</td>\n",
       "    </tr>\n",
       "  </tbody>\n",
       "</table>                          </body>                                                          </html>"
      ],
      "text/plain": [
       "<IPython.core.display.HTML object>"
      ]
     },
     "metadata": {},
     "output_type": "display_data"
    }
   ],
   "source": [
    "knn_dog.explore()"
   ]
  },
  {
   "cell_type": "code",
   "execution_count": 45,
   "metadata": {},
   "outputs": [
    {
     "data": {
      "text/html": [
       "<pre>Starting pairwise querying.</pre>"
      ],
      "text/plain": [
       "Starting pairwise querying."
      ]
     },
     "metadata": {},
     "output_type": "display_data"
    },
    {
     "data": {
      "text/html": [
       "<pre>+--------------+---------+-------------+--------------+</pre>"
      ],
      "text/plain": [
       "+--------------+---------+-------------+--------------+"
      ]
     },
     "metadata": {},
     "output_type": "display_data"
    },
    {
     "data": {
      "text/html": [
       "<pre>| Query points | # Pairs | % Complete. | Elapsed Time |</pre>"
      ],
      "text/plain": [
       "| Query points | # Pairs | % Complete. | Elapsed Time |"
      ]
     },
     "metadata": {},
     "output_type": "display_data"
    },
    {
     "data": {
      "text/html": [
       "<pre>+--------------+---------+-------------+--------------+</pre>"
      ],
      "text/plain": [
       "+--------------+---------+-------------+--------------+"
      ]
     },
     "metadata": {},
     "output_type": "display_data"
    },
    {
     "data": {
      "text/html": [
       "<pre>| 0            | 1       | 0.196464    | 8.139ms      |</pre>"
      ],
      "text/plain": [
       "| 0            | 1       | 0.196464    | 8.139ms      |"
      ]
     },
     "metadata": {},
     "output_type": "display_data"
    },
    {
     "data": {
      "text/html": [
       "<pre>| Done         |         | 100         | 54.67ms      |</pre>"
      ],
      "text/plain": [
       "| Done         |         | 100         | 54.67ms      |"
      ]
     },
     "metadata": {},
     "output_type": "display_data"
    },
    {
     "data": {
      "text/html": [
       "<pre>+--------------+---------+-------------+--------------+</pre>"
      ],
      "text/plain": [
       "+--------------+---------+-------------+--------------+"
      ]
     },
     "metadata": {},
     "output_type": "display_data"
    }
   ],
   "source": [
    "f_cat_mean = cat_model.query(image_test[0:1])"
   ]
  },
  {
   "cell_type": "code",
   "execution_count": 47,
   "metadata": {},
   "outputs": [
    {
     "data": {
      "text/plain": [
       "36.15573070978294"
      ]
     },
     "execution_count": 47,
     "metadata": {},
     "output_type": "execute_result"
    }
   ],
   "source": [
    "f_cat_mean['distance'].mean()"
   ]
  },
  {
   "cell_type": "code",
   "execution_count": 48,
   "metadata": {},
   "outputs": [
    {
     "data": {
      "text/html": [
       "<pre>Starting pairwise querying.</pre>"
      ],
      "text/plain": [
       "Starting pairwise querying."
      ]
     },
     "metadata": {},
     "output_type": "display_data"
    },
    {
     "data": {
      "text/html": [
       "<pre>+--------------+---------+-------------+--------------+</pre>"
      ],
      "text/plain": [
       "+--------------+---------+-------------+--------------+"
      ]
     },
     "metadata": {},
     "output_type": "display_data"
    },
    {
     "data": {
      "text/html": [
       "<pre>| Query points | # Pairs | % Complete. | Elapsed Time |</pre>"
      ],
      "text/plain": [
       "| Query points | # Pairs | % Complete. | Elapsed Time |"
      ]
     },
     "metadata": {},
     "output_type": "display_data"
    },
    {
     "data": {
      "text/html": [
       "<pre>+--------------+---------+-------------+--------------+</pre>"
      ],
      "text/plain": [
       "+--------------+---------+-------------+--------------+"
      ]
     },
     "metadata": {},
     "output_type": "display_data"
    },
    {
     "data": {
      "text/html": [
       "<pre>| 0            | 1       | 0.196464    | 12.017ms     |</pre>"
      ],
      "text/plain": [
       "| 0            | 1       | 0.196464    | 12.017ms     |"
      ]
     },
     "metadata": {},
     "output_type": "display_data"
    },
    {
     "data": {
      "text/html": [
       "<pre>| Done         |         | 100         | 56.594ms     |</pre>"
      ],
      "text/plain": [
       "| Done         |         | 100         | 56.594ms     |"
      ]
     },
     "metadata": {},
     "output_type": "display_data"
    },
    {
     "data": {
      "text/html": [
       "<pre>+--------------+---------+-------------+--------------+</pre>"
      ],
      "text/plain": [
       "+--------------+---------+-------------+--------------+"
      ]
     },
     "metadata": {},
     "output_type": "display_data"
    }
   ],
   "source": [
    "d_dog_mean = dog_model.query(image_test[0:1])"
   ]
  },
  {
   "cell_type": "code",
   "execution_count": 49,
   "metadata": {},
   "outputs": [
    {
     "data": {
      "text/plain": [
       "37.77071136184156"
      ]
     },
     "execution_count": 49,
     "metadata": {},
     "output_type": "execute_result"
    }
   ],
   "source": [
    "d_dog_mean['distance'].mean()"
   ]
  },
  {
   "cell_type": "code",
   "execution_count": 50,
   "metadata": {},
   "outputs": [],
   "source": [
    "test_cat_img = cat_img_train"
   ]
  },
  {
   "cell_type": "code",
   "execution_count": 51,
   "metadata": {},
   "outputs": [],
   "source": [
    "test_dog_img = dog_img_train"
   ]
  },
  {
   "cell_type": "code",
   "execution_count": 52,
   "metadata": {},
   "outputs": [],
   "source": [
    "test_bird_img = bird_img_train"
   ]
  },
  {
   "cell_type": "code",
   "execution_count": 53,
   "metadata": {},
   "outputs": [],
   "source": [
    "test_auto_img = automobile_img_train"
   ]
  },
  {
   "cell_type": "code",
   "execution_count": null,
   "metadata": {},
   "outputs": [],
   "source": []
  },
  {
   "cell_type": "code",
   "execution_count": 54,
   "metadata": {},
   "outputs": [
    {
     "data": {
      "text/html": [
       "<pre>Starting blockwise querying.</pre>"
      ],
      "text/plain": [
       "Starting blockwise querying."
      ]
     },
     "metadata": {},
     "output_type": "display_data"
    },
    {
     "data": {
      "text/html": [
       "<pre>max rows per data block: 4348</pre>"
      ],
      "text/plain": [
       "max rows per data block: 4348"
      ]
     },
     "metadata": {},
     "output_type": "display_data"
    },
    {
     "data": {
      "text/html": [
       "<pre>number of reference data blocks: 4</pre>"
      ],
      "text/plain": [
       "number of reference data blocks: 4"
      ]
     },
     "metadata": {},
     "output_type": "display_data"
    },
    {
     "data": {
      "text/html": [
       "<pre>number of query data blocks: 1</pre>"
      ],
      "text/plain": [
       "number of query data blocks: 1"
      ]
     },
     "metadata": {},
     "output_type": "display_data"
    },
    {
     "data": {
      "text/html": [
       "<pre>+--------------+---------+-------------+--------------+</pre>"
      ],
      "text/plain": [
       "+--------------+---------+-------------+--------------+"
      ]
     },
     "metadata": {},
     "output_type": "display_data"
    },
    {
     "data": {
      "text/html": [
       "<pre>| Query points | # Pairs | % Complete. | Elapsed Time |</pre>"
      ],
      "text/plain": [
       "| Query points | # Pairs | % Complete. | Elapsed Time |"
      ]
     },
     "metadata": {},
     "output_type": "display_data"
    },
    {
     "data": {
      "text/html": [
       "<pre>+--------------+---------+-------------+--------------+</pre>"
      ],
      "text/plain": [
       "+--------------+---------+-------------+--------------+"
      ]
     },
     "metadata": {},
     "output_type": "display_data"
    },
    {
     "data": {
      "text/html": [
       "<pre>| 509          | 64643   | 24.9509     | 202.757ms    |</pre>"
      ],
      "text/plain": [
       "| 509          | 64643   | 24.9509     | 202.757ms    |"
      ]
     },
     "metadata": {},
     "output_type": "display_data"
    },
    {
     "data": {
      "text/html": [
       "<pre>| Done         | 259081  | 100         | 231.621ms    |</pre>"
      ],
      "text/plain": [
       "| Done         | 259081  | 100         | 231.621ms    |"
      ]
     },
     "metadata": {},
     "output_type": "display_data"
    },
    {
     "data": {
      "text/html": [
       "<pre>+--------------+---------+-------------+--------------+</pre>"
      ],
      "text/plain": [
       "+--------------+---------+-------------+--------------+"
      ]
     },
     "metadata": {},
     "output_type": "display_data"
    }
   ],
   "source": [
    "dog_cat_neighbors = cat_model.query(test_dog_img, k=1)"
   ]
  },
  {
   "cell_type": "code",
   "execution_count": 55,
   "metadata": {},
   "outputs": [
    {
     "data": {
      "text/html": [
       "<pre>Starting blockwise querying.</pre>"
      ],
      "text/plain": [
       "Starting blockwise querying."
      ]
     },
     "metadata": {},
     "output_type": "display_data"
    },
    {
     "data": {
      "text/html": [
       "<pre>max rows per data block: 4348</pre>"
      ],
      "text/plain": [
       "max rows per data block: 4348"
      ]
     },
     "metadata": {},
     "output_type": "display_data"
    },
    {
     "data": {
      "text/html": [
       "<pre>number of reference data blocks: 4</pre>"
      ],
      "text/plain": [
       "number of reference data blocks: 4"
      ]
     },
     "metadata": {},
     "output_type": "display_data"
    },
    {
     "data": {
      "text/html": [
       "<pre>number of query data blocks: 1</pre>"
      ],
      "text/plain": [
       "number of query data blocks: 1"
      ]
     },
     "metadata": {},
     "output_type": "display_data"
    },
    {
     "data": {
      "text/html": [
       "<pre>+--------------+---------+-------------+--------------+</pre>"
      ],
      "text/plain": [
       "+--------------+---------+-------------+--------------+"
      ]
     },
     "metadata": {},
     "output_type": "display_data"
    },
    {
     "data": {
      "text/html": [
       "<pre>| Query points | # Pairs | % Complete. | Elapsed Time |</pre>"
      ],
      "text/plain": [
       "| Query points | # Pairs | % Complete. | Elapsed Time |"
      ]
     },
     "metadata": {},
     "output_type": "display_data"
    },
    {
     "data": {
      "text/html": [
       "<pre>+--------------+---------+-------------+--------------+</pre>"
      ],
      "text/plain": [
       "+--------------+---------+-------------+--------------+"
      ]
     },
     "metadata": {},
     "output_type": "display_data"
    },
    {
     "data": {
      "text/html": [
       "<pre>| 509          | 60571   | 24.8954     | 194.101ms    |</pre>"
      ],
      "text/plain": [
       "| 509          | 60571   | 24.8954     | 194.101ms    |"
      ]
     },
     "metadata": {},
     "output_type": "display_data"
    },
    {
     "data": {
      "text/html": [
       "<pre>| Done         | 243302  | 100         | 219.235ms    |</pre>"
      ],
      "text/plain": [
       "| Done         | 243302  | 100         | 219.235ms    |"
      ]
     },
     "metadata": {},
     "output_type": "display_data"
    },
    {
     "data": {
      "text/html": [
       "<pre>+--------------+---------+-------------+--------------+</pre>"
      ],
      "text/plain": [
       "+--------------+---------+-------------+--------------+"
      ]
     },
     "metadata": {},
     "output_type": "display_data"
    }
   ],
   "source": [
    "dog_bird_neighbors = bird_model.query(test_dog_img, k=1)"
   ]
  },
  {
   "cell_type": "code",
   "execution_count": 57,
   "metadata": {},
   "outputs": [
    {
     "data": {
      "text/html": [
       "<pre>Starting blockwise querying.</pre>"
      ],
      "text/plain": [
       "Starting blockwise querying."
      ]
     },
     "metadata": {},
     "output_type": "display_data"
    },
    {
     "data": {
      "text/html": [
       "<pre>max rows per data block: 4348</pre>"
      ],
      "text/plain": [
       "max rows per data block: 4348"
      ]
     },
     "metadata": {},
     "output_type": "display_data"
    },
    {
     "data": {
      "text/html": [
       "<pre>number of reference data blocks: 4</pre>"
      ],
      "text/plain": [
       "number of reference data blocks: 4"
      ]
     },
     "metadata": {},
     "output_type": "display_data"
    },
    {
     "data": {
      "text/html": [
       "<pre>number of query data blocks: 1</pre>"
      ],
      "text/plain": [
       "number of query data blocks: 1"
      ]
     },
     "metadata": {},
     "output_type": "display_data"
    },
    {
     "data": {
      "text/html": [
       "<pre>+--------------+---------+-------------+--------------+</pre>"
      ],
      "text/plain": [
       "+--------------+---------+-------------+--------------+"
      ]
     },
     "metadata": {},
     "output_type": "display_data"
    },
    {
     "data": {
      "text/html": [
       "<pre>| Query points | # Pairs | % Complete. | Elapsed Time |</pre>"
      ],
      "text/plain": [
       "| Query points | # Pairs | % Complete. | Elapsed Time |"
      ]
     },
     "metadata": {},
     "output_type": "display_data"
    },
    {
     "data": {
      "text/html": [
       "<pre>+--------------+---------+-------------+--------------+</pre>"
      ],
      "text/plain": [
       "+--------------+---------+-------------+--------------+"
      ]
     },
     "metadata": {},
     "output_type": "display_data"
    },
    {
     "data": {
      "text/html": [
       "<pre>| 509          | 64643   | 24.9509     | 190.196ms    |</pre>"
      ],
      "text/plain": [
       "| 509          | 64643   | 24.9509     | 190.196ms    |"
      ]
     },
     "metadata": {},
     "output_type": "display_data"
    },
    {
     "data": {
      "text/html": [
       "<pre>| Done         | 259081  | 100         | 223.619ms    |</pre>"
      ],
      "text/plain": [
       "| Done         | 259081  | 100         | 223.619ms    |"
      ]
     },
     "metadata": {},
     "output_type": "display_data"
    },
    {
     "data": {
      "text/html": [
       "<pre>+--------------+---------+-------------+--------------+</pre>"
      ],
      "text/plain": [
       "+--------------+---------+-------------+--------------+"
      ]
     },
     "metadata": {},
     "output_type": "display_data"
    }
   ],
   "source": [
    "dog_auto_neighbors = automobile_model.query(test_dog_img, k=1)"
   ]
  },
  {
   "cell_type": "code",
   "execution_count": 58,
   "metadata": {},
   "outputs": [
    {
     "data": {
      "text/html": [
       "<pre>Starting blockwise querying.</pre>"
      ],
      "text/plain": [
       "Starting blockwise querying."
      ]
     },
     "metadata": {},
     "output_type": "display_data"
    },
    {
     "data": {
      "text/html": [
       "<pre>max rows per data block: 4348</pre>"
      ],
      "text/plain": [
       "max rows per data block: 4348"
      ]
     },
     "metadata": {},
     "output_type": "display_data"
    },
    {
     "data": {
      "text/html": [
       "<pre>number of reference data blocks: 4</pre>"
      ],
      "text/plain": [
       "number of reference data blocks: 4"
      ]
     },
     "metadata": {},
     "output_type": "display_data"
    },
    {
     "data": {
      "text/html": [
       "<pre>number of query data blocks: 1</pre>"
      ],
      "text/plain": [
       "number of query data blocks: 1"
      ]
     },
     "metadata": {},
     "output_type": "display_data"
    },
    {
     "data": {
      "text/html": [
       "<pre>+--------------+---------+-------------+--------------+</pre>"
      ],
      "text/plain": [
       "+--------------+---------+-------------+--------------+"
      ]
     },
     "metadata": {},
     "output_type": "display_data"
    },
    {
     "data": {
      "text/html": [
       "<pre>| Query points | # Pairs | % Complete. | Elapsed Time |</pre>"
      ],
      "text/plain": [
       "| Query points | # Pairs | % Complete. | Elapsed Time |"
      ]
     },
     "metadata": {},
     "output_type": "display_data"
    },
    {
     "data": {
      "text/html": [
       "<pre>+--------------+---------+-------------+--------------+</pre>"
      ],
      "text/plain": [
       "+--------------+---------+-------------+--------------+"
      ]
     },
     "metadata": {},
     "output_type": "display_data"
    },
    {
     "data": {
      "text/html": [
       "<pre>| 509          | 64643   | 24.9509     | 196.604ms    |</pre>"
      ],
      "text/plain": [
       "| 509          | 64643   | 24.9509     | 196.604ms    |"
      ]
     },
     "metadata": {},
     "output_type": "display_data"
    },
    {
     "data": {
      "text/html": [
       "<pre>| Done         | 259081  | 100         | 210.162ms    |</pre>"
      ],
      "text/plain": [
       "| Done         | 259081  | 100         | 210.162ms    |"
      ]
     },
     "metadata": {},
     "output_type": "display_data"
    },
    {
     "data": {
      "text/html": [
       "<pre>+--------------+---------+-------------+--------------+</pre>"
      ],
      "text/plain": [
       "+--------------+---------+-------------+--------------+"
      ]
     },
     "metadata": {},
     "output_type": "display_data"
    }
   ],
   "source": [
    "dog_dog_model = dog_model.query(test_dog_img, k=1)"
   ]
  },
  {
   "cell_type": "code",
   "execution_count": 59,
   "metadata": {},
   "outputs": [
    {
     "data": {
      "text/html": [
       "<div style=\"max-height:1000px;max-width:1500px;overflow:auto;\"><table frame=\"box\" rules=\"cols\">\n",
       "    <tr>\n",
       "        <th style=\"padding-left: 1em; padding-right: 1em; text-align: center\">query_label</th>\n",
       "        <th style=\"padding-left: 1em; padding-right: 1em; text-align: center\">reference_label</th>\n",
       "        <th style=\"padding-left: 1em; padding-right: 1em; text-align: center\">distance</th>\n",
       "        <th style=\"padding-left: 1em; padding-right: 1em; text-align: center\">rank</th>\n",
       "    </tr>\n",
       "    <tr>\n",
       "        <td style=\"padding-left: 1em; padding-right: 1em; text-align: center; vertical-align: top\">0</td>\n",
       "        <td style=\"padding-left: 1em; padding-right: 1em; text-align: center; vertical-align: top\">70</td>\n",
       "        <td style=\"padding-left: 1em; padding-right: 1em; text-align: center; vertical-align: top\">0.0</td>\n",
       "        <td style=\"padding-left: 1em; padding-right: 1em; text-align: center; vertical-align: top\">1</td>\n",
       "    </tr>\n",
       "    <tr>\n",
       "        <td style=\"padding-left: 1em; padding-right: 1em; text-align: center; vertical-align: top\">1</td>\n",
       "        <td style=\"padding-left: 1em; padding-right: 1em; text-align: center; vertical-align: top\">107</td>\n",
       "        <td style=\"padding-left: 1em; padding-right: 1em; text-align: center; vertical-align: top\">0.0</td>\n",
       "        <td style=\"padding-left: 1em; padding-right: 1em; text-align: center; vertical-align: top\">1</td>\n",
       "    </tr>\n",
       "    <tr>\n",
       "        <td style=\"padding-left: 1em; padding-right: 1em; text-align: center; vertical-align: top\">2</td>\n",
       "        <td style=\"padding-left: 1em; padding-right: 1em; text-align: center; vertical-align: top\">177</td>\n",
       "        <td style=\"padding-left: 1em; padding-right: 1em; text-align: center; vertical-align: top\">0.0</td>\n",
       "        <td style=\"padding-left: 1em; padding-right: 1em; text-align: center; vertical-align: top\">1</td>\n",
       "    </tr>\n",
       "    <tr>\n",
       "        <td style=\"padding-left: 1em; padding-right: 1em; text-align: center; vertical-align: top\">3</td>\n",
       "        <td style=\"padding-left: 1em; padding-right: 1em; text-align: center; vertical-align: top\">424</td>\n",
       "        <td style=\"padding-left: 1em; padding-right: 1em; text-align: center; vertical-align: top\">2.86102294921875e-06</td>\n",
       "        <td style=\"padding-left: 1em; padding-right: 1em; text-align: center; vertical-align: top\">1</td>\n",
       "    </tr>\n",
       "    <tr>\n",
       "        <td style=\"padding-left: 1em; padding-right: 1em; text-align: center; vertical-align: top\">4</td>\n",
       "        <td style=\"padding-left: 1em; padding-right: 1em; text-align: center; vertical-align: top\">462</td>\n",
       "        <td style=\"padding-left: 1em; padding-right: 1em; text-align: center; vertical-align: top\">2.6973983046972182e-06</td>\n",
       "        <td style=\"padding-left: 1em; padding-right: 1em; text-align: center; vertical-align: top\">1</td>\n",
       "    </tr>\n",
       "    <tr>\n",
       "        <td style=\"padding-left: 1em; padding-right: 1em; text-align: center; vertical-align: top\">5</td>\n",
       "        <td style=\"padding-left: 1em; padding-right: 1em; text-align: center; vertical-align: top\">542</td>\n",
       "        <td style=\"padding-left: 1em; padding-right: 1em; text-align: center; vertical-align: top\">0.0</td>\n",
       "        <td style=\"padding-left: 1em; padding-right: 1em; text-align: center; vertical-align: top\">1</td>\n",
       "    </tr>\n",
       "    <tr>\n",
       "        <td style=\"padding-left: 1em; padding-right: 1em; text-align: center; vertical-align: top\">6</td>\n",
       "        <td style=\"padding-left: 1em; padding-right: 1em; text-align: center; vertical-align: top\">573</td>\n",
       "        <td style=\"padding-left: 1em; padding-right: 1em; text-align: center; vertical-align: top\">0.0</td>\n",
       "        <td style=\"padding-left: 1em; padding-right: 1em; text-align: center; vertical-align: top\">1</td>\n",
       "    </tr>\n",
       "    <tr>\n",
       "        <td style=\"padding-left: 1em; padding-right: 1em; text-align: center; vertical-align: top\">7</td>\n",
       "        <td style=\"padding-left: 1em; padding-right: 1em; text-align: center; vertical-align: top\">851</td>\n",
       "        <td style=\"padding-left: 1em; padding-right: 1em; text-align: center; vertical-align: top\">0.0</td>\n",
       "        <td style=\"padding-left: 1em; padding-right: 1em; text-align: center; vertical-align: top\">1</td>\n",
       "    </tr>\n",
       "    <tr>\n",
       "        <td style=\"padding-left: 1em; padding-right: 1em; text-align: center; vertical-align: top\">8</td>\n",
       "        <td style=\"padding-left: 1em; padding-right: 1em; text-align: center; vertical-align: top\">919</td>\n",
       "        <td style=\"padding-left: 1em; padding-right: 1em; text-align: center; vertical-align: top\">0.0</td>\n",
       "        <td style=\"padding-left: 1em; padding-right: 1em; text-align: center; vertical-align: top\">1</td>\n",
       "    </tr>\n",
       "    <tr>\n",
       "        <td style=\"padding-left: 1em; padding-right: 1em; text-align: center; vertical-align: top\">9</td>\n",
       "        <td style=\"padding-left: 1em; padding-right: 1em; text-align: center; vertical-align: top\">1172</td>\n",
       "        <td style=\"padding-left: 1em; padding-right: 1em; text-align: center; vertical-align: top\">0.0</td>\n",
       "        <td style=\"padding-left: 1em; padding-right: 1em; text-align: center; vertical-align: top\">1</td>\n",
       "    </tr>\n",
       "</table>\n",
       "[509 rows x 4 columns]<br/>Note: Only the head of the SFrame is printed.<br/>You can use print_rows(num_rows=m, num_columns=n) to print more rows and columns.\n",
       "</div>"
      ],
      "text/plain": [
       "Columns:\n",
       "\tquery_label\tint\n",
       "\treference_label\tint\n",
       "\tdistance\tfloat\n",
       "\trank\tint\n",
       "\n",
       "Rows: 509\n",
       "\n",
       "Data:\n",
       "+-------------+-----------------+------------------------+------+\n",
       "| query_label | reference_label |        distance        | rank |\n",
       "+-------------+-----------------+------------------------+------+\n",
       "|      0      |        70       |          0.0           |  1   |\n",
       "|      1      |       107       |          0.0           |  1   |\n",
       "|      2      |       177       |          0.0           |  1   |\n",
       "|      3      |       424       |  2.86102294921875e-06  |  1   |\n",
       "|      4      |       462       | 2.6973983046972182e-06 |  1   |\n",
       "|      5      |       542       |          0.0           |  1   |\n",
       "|      6      |       573       |          0.0           |  1   |\n",
       "|      7      |       851       |          0.0           |  1   |\n",
       "|      8      |       919       |          0.0           |  1   |\n",
       "|      9      |       1172      |          0.0           |  1   |\n",
       "+-------------+-----------------+------------------------+------+\n",
       "[509 rows x 4 columns]\n",
       "Note: Only the head of the SFrame is printed.\n",
       "You can use print_rows(num_rows=m, num_columns=n) to print more rows and columns."
      ]
     },
     "execution_count": 59,
     "metadata": {},
     "output_type": "execute_result"
    }
   ],
   "source": [
    "dog_dog_model"
   ]
  },
  {
   "cell_type": "code",
   "execution_count": null,
   "metadata": {},
   "outputs": [],
   "source": []
  },
  {
   "cell_type": "code",
   "execution_count": 64,
   "metadata": {},
   "outputs": [],
   "source": [
    "dog_distances = tc.SFrame({'dog-dog': dog_dog_model['distance'], 'dog-cat': dog_cat_neighbors['distance'],\n",
    "                         'dog_auto': dog_auto_neighbors['distance'], 'dog_bird': dog_bird_neighbors['distance'] })"
   ]
  },
  {
   "cell_type": "code",
   "execution_count": 65,
   "metadata": {},
   "outputs": [
    {
     "data": {
      "text/html": [
       "<div style=\"max-height:1000px;max-width:1500px;overflow:auto;\"><table frame=\"box\" rules=\"cols\">\n",
       "    <tr>\n",
       "        <th style=\"padding-left: 1em; padding-right: 1em; text-align: center\">dog-cat</th>\n",
       "        <th style=\"padding-left: 1em; padding-right: 1em; text-align: center\">dog-dog</th>\n",
       "        <th style=\"padding-left: 1em; padding-right: 1em; text-align: center\">dog_auto</th>\n",
       "        <th style=\"padding-left: 1em; padding-right: 1em; text-align: center\">dog_bird</th>\n",
       "    </tr>\n",
       "    <tr>\n",
       "        <td style=\"padding-left: 1em; padding-right: 1em; text-align: center; vertical-align: top\">40.46011258793053</td>\n",
       "        <td style=\"padding-left: 1em; padding-right: 1em; text-align: center; vertical-align: top\">0.0</td>\n",
       "        <td style=\"padding-left: 1em; padding-right: 1em; text-align: center; vertical-align: top\">41.30510678935087</td>\n",
       "        <td style=\"padding-left: 1em; padding-right: 1em; text-align: center; vertical-align: top\">41.6822518309282</td>\n",
       "    </tr>\n",
       "    <tr>\n",
       "        <td style=\"padding-left: 1em; padding-right: 1em; text-align: center; vertical-align: top\">32.298556721410975</td>\n",
       "        <td style=\"padding-left: 1em; padding-right: 1em; text-align: center; vertical-align: top\">0.0</td>\n",
       "        <td style=\"padding-left: 1em; padding-right: 1em; text-align: center; vertical-align: top\">40.50381018230467</td>\n",
       "        <td style=\"padding-left: 1em; padding-right: 1em; text-align: center; vertical-align: top\">37.69666778567965</td>\n",
       "    </tr>\n",
       "    <tr>\n",
       "        <td style=\"padding-left: 1em; padding-right: 1em; text-align: center; vertical-align: top\">40.200974884533515</td>\n",
       "        <td style=\"padding-left: 1em; padding-right: 1em; text-align: center; vertical-align: top\">0.0</td>\n",
       "        <td style=\"padding-left: 1em; padding-right: 1em; text-align: center; vertical-align: top\">44.68227501998545</td>\n",
       "        <td style=\"padding-left: 1em; padding-right: 1em; text-align: center; vertical-align: top\">39.85733907436836</td>\n",
       "    </tr>\n",
       "    <tr>\n",
       "        <td style=\"padding-left: 1em; padding-right: 1em; text-align: center; vertical-align: top\">35.53890673066188</td>\n",
       "        <td style=\"padding-left: 1em; padding-right: 1em; text-align: center; vertical-align: top\">2.86102294921875e-06</td>\n",
       "        <td style=\"padding-left: 1em; padding-right: 1em; text-align: center; vertical-align: top\">37.885130232310715</td>\n",
       "        <td style=\"padding-left: 1em; padding-right: 1em; text-align: center; vertical-align: top\">38.1435927319933</td>\n",
       "    </tr>\n",
       "    <tr>\n",
       "        <td style=\"padding-left: 1em; padding-right: 1em; text-align: center; vertical-align: top\">36.1824433193014</td>\n",
       "        <td style=\"padding-left: 1em; padding-right: 1em; text-align: center; vertical-align: top\">2.6973983046972182e-06</td>\n",
       "        <td style=\"padding-left: 1em; padding-right: 1em; text-align: center; vertical-align: top\">39.25481255134784</td>\n",
       "        <td style=\"padding-left: 1em; padding-right: 1em; text-align: center; vertical-align: top\">37.10999173381814</td>\n",
       "    </tr>\n",
       "    <tr>\n",
       "        <td style=\"padding-left: 1em; padding-right: 1em; text-align: center; vertical-align: top\">35.94616836521785</td>\n",
       "        <td style=\"padding-left: 1em; padding-right: 1em; text-align: center; vertical-align: top\">0.0</td>\n",
       "        <td style=\"padding-left: 1em; padding-right: 1em; text-align: center; vertical-align: top\">39.993610715172856</td>\n",
       "        <td style=\"padding-left: 1em; padding-right: 1em; text-align: center; vertical-align: top\">37.966827579958306</td>\n",
       "    </tr>\n",
       "    <tr>\n",
       "        <td style=\"padding-left: 1em; padding-right: 1em; text-align: center; vertical-align: top\">38.79583222994949</td>\n",
       "        <td style=\"padding-left: 1em; padding-right: 1em; text-align: center; vertical-align: top\">0.0</td>\n",
       "        <td style=\"padding-left: 1em; padding-right: 1em; text-align: center; vertical-align: top\">44.52311599359084</td>\n",
       "        <td style=\"padding-left: 1em; padding-right: 1em; text-align: center; vertical-align: top\">42.087379028405486</td>\n",
       "    </tr>\n",
       "    <tr>\n",
       "        <td style=\"padding-left: 1em; padding-right: 1em; text-align: center; vertical-align: top\">40.295786898221415</td>\n",
       "        <td style=\"padding-left: 1em; padding-right: 1em; text-align: center; vertical-align: top\">0.0</td>\n",
       "        <td style=\"padding-left: 1em; padding-right: 1em; text-align: center; vertical-align: top\">40.19845545011892</td>\n",
       "        <td style=\"padding-left: 1em; padding-right: 1em; text-align: center; vertical-align: top\">41.380512651336204</td>\n",
       "    </tr>\n",
       "    <tr>\n",
       "        <td style=\"padding-left: 1em; padding-right: 1em; text-align: center; vertical-align: top\">42.78329024648902</td>\n",
       "        <td style=\"padding-left: 1em; padding-right: 1em; text-align: center; vertical-align: top\">0.0</td>\n",
       "        <td style=\"padding-left: 1em; padding-right: 1em; text-align: center; vertical-align: top\">50.26122957030132</td>\n",
       "        <td style=\"padding-left: 1em; padding-right: 1em; text-align: center; vertical-align: top\">43.58133888012344</td>\n",
       "    </tr>\n",
       "    <tr>\n",
       "        <td style=\"padding-left: 1em; padding-right: 1em; text-align: center; vertical-align: top\">35.19691392833802</td>\n",
       "        <td style=\"padding-left: 1em; padding-right: 1em; text-align: center; vertical-align: top\">0.0</td>\n",
       "        <td style=\"padding-left: 1em; padding-right: 1em; text-align: center; vertical-align: top\">47.59405252443334</td>\n",
       "        <td style=\"padding-left: 1em; padding-right: 1em; text-align: center; vertical-align: top\">39.81169927626512</td>\n",
       "    </tr>\n",
       "</table>\n",
       "[509 rows x 4 columns]<br/>Note: Only the head of the SFrame is printed.<br/>You can use print_rows(num_rows=m, num_columns=n) to print more rows and columns.\n",
       "</div>"
      ],
      "text/plain": [
       "Columns:\n",
       "\tdog-cat\tfloat\n",
       "\tdog-dog\tfloat\n",
       "\tdog_auto\tfloat\n",
       "\tdog_bird\tfloat\n",
       "\n",
       "Rows: 509\n",
       "\n",
       "Data:\n",
       "+--------------------+------------------------+--------------------+\n",
       "|      dog-cat       |        dog-dog         |      dog_auto      |\n",
       "+--------------------+------------------------+--------------------+\n",
       "| 40.46011258793053  |          0.0           | 41.30510678935087  |\n",
       "| 32.298556721410975 |          0.0           | 40.50381018230467  |\n",
       "| 40.200974884533515 |          0.0           | 44.68227501998545  |\n",
       "| 35.53890673066188  |  2.86102294921875e-06  | 37.885130232310715 |\n",
       "|  36.1824433193014  | 2.6973983046972182e-06 | 39.25481255134784  |\n",
       "| 35.94616836521785  |          0.0           | 39.993610715172856 |\n",
       "| 38.79583222994949  |          0.0           | 44.52311599359084  |\n",
       "| 40.295786898221415 |          0.0           | 40.19845545011892  |\n",
       "| 42.78329024648902  |          0.0           | 50.26122957030132  |\n",
       "| 35.19691392833802  |          0.0           | 47.59405252443334  |\n",
       "+--------------------+------------------------+--------------------+\n",
       "+--------------------+\n",
       "|      dog_bird      |\n",
       "+--------------------+\n",
       "|  41.6822518309282  |\n",
       "| 37.69666778567965  |\n",
       "| 39.85733907436836  |\n",
       "|  38.1435927319933  |\n",
       "| 37.10999173381814  |\n",
       "| 37.966827579958306 |\n",
       "| 42.087379028405486 |\n",
       "| 41.380512651336204 |\n",
       "| 43.58133888012344  |\n",
       "| 39.81169927626512  |\n",
       "+--------------------+\n",
       "[509 rows x 4 columns]\n",
       "Note: Only the head of the SFrame is printed.\n",
       "You can use print_rows(num_rows=m, num_columns=n) to print more rows and columns."
      ]
     },
     "execution_count": 65,
     "metadata": {},
     "output_type": "execute_result"
    }
   ],
   "source": [
    "dog_distances"
   ]
  },
  {
   "cell_type": "code",
   "execution_count": 66,
   "metadata": {},
   "outputs": [
    {
     "data": {
      "text/plain": [
       "509"
      ]
     },
     "execution_count": 66,
     "metadata": {},
     "output_type": "execute_result"
    }
   ],
   "source": [
    "len(dog_distances)"
   ]
  },
  {
   "cell_type": "code",
   "execution_count": null,
   "metadata": {},
   "outputs": [],
   "source": []
  },
  {
   "cell_type": "code",
   "execution_count": 84,
   "metadata": {},
   "outputs": [],
   "source": [
    "def is_dog_correct(row):\n",
    "#     print(row, type(row))\n",
    "    temp = min(row.values()) \n",
    "    res = [key for key in row if row[key] == temp] \n",
    "    print(res, type(res))\n",
    "    if res[0] == 'dog-dog':\n",
    "        return 1\n",
    "    return 0"
   ]
  },
  {
   "cell_type": "code",
   "execution_count": 85,
   "metadata": {},
   "outputs": [
    {
     "name": "stdout",
     "output_type": "stream",
     "text": [
      "['dog-dog'] <class 'list'>\n",
      "['dog-dog'] <class 'list'>\n",
      "['dog-dog'] <class 'list'>\n",
      "['dog-dog'] <class 'list'>\n",
      "['dog-dog'] <class 'list'>\n",
      "['dog-dog'] <class 'list'>\n",
      "['dog-dog'] <class 'list'>\n",
      "['dog-dog'] <class 'list'>\n",
      "['dog-dog'] <class 'list'>\n",
      "['dog-dog'] <class 'list'>\n"
     ]
    },
    {
     "data": {
      "text/plain": [
       "509"
      ]
     },
     "execution_count": 85,
     "metadata": {},
     "output_type": "execute_result"
    }
   ],
   "source": [
    "dog_distances.apply(is_dog_correct).sum()"
   ]
  },
  {
   "cell_type": "code",
   "execution_count": null,
   "metadata": {},
   "outputs": [],
   "source": []
  },
  {
   "cell_type": "code",
   "execution_count": null,
   "metadata": {},
   "outputs": [],
   "source": []
  },
  {
   "cell_type": "code",
   "execution_count": null,
   "metadata": {},
   "outputs": [],
   "source": []
  },
  {
   "cell_type": "code",
   "execution_count": null,
   "metadata": {},
   "outputs": [],
   "source": []
  },
  {
   "cell_type": "code",
   "execution_count": null,
   "metadata": {},
   "outputs": [],
   "source": []
  },
  {
   "cell_type": "code",
   "execution_count": null,
   "metadata": {},
   "outputs": [],
   "source": []
  },
  {
   "cell_type": "code",
   "execution_count": null,
   "metadata": {},
   "outputs": [],
   "source": []
  },
  {
   "cell_type": "code",
   "execution_count": null,
   "metadata": {},
   "outputs": [],
   "source": []
  },
  {
   "cell_type": "code",
   "execution_count": null,
   "metadata": {},
   "outputs": [],
   "source": []
  },
  {
   "cell_type": "code",
   "execution_count": null,
   "metadata": {},
   "outputs": [],
   "source": []
  },
  {
   "cell_type": "code",
   "execution_count": null,
   "metadata": {},
   "outputs": [],
   "source": []
  },
  {
   "cell_type": "code",
   "execution_count": null,
   "metadata": {},
   "outputs": [],
   "source": []
  },
  {
   "cell_type": "code",
   "execution_count": null,
   "metadata": {},
   "outputs": [],
   "source": []
  },
  {
   "cell_type": "code",
   "execution_count": null,
   "metadata": {},
   "outputs": [],
   "source": []
  },
  {
   "cell_type": "code",
   "execution_count": null,
   "metadata": {},
   "outputs": [],
   "source": []
  },
  {
   "cell_type": "code",
   "execution_count": null,
   "metadata": {},
   "outputs": [],
   "source": []
  },
  {
   "cell_type": "code",
   "execution_count": null,
   "metadata": {},
   "outputs": [],
   "source": []
  },
  {
   "cell_type": "code",
   "execution_count": null,
   "metadata": {},
   "outputs": [],
   "source": []
  },
  {
   "cell_type": "code",
   "execution_count": null,
   "metadata": {},
   "outputs": [],
   "source": []
  },
  {
   "cell_type": "code",
   "execution_count": null,
   "metadata": {},
   "outputs": [],
   "source": []
  }
 ],
 "metadata": {
  "kernelspec": {
   "display_name": "Python 3",
   "language": "python",
   "name": "python3"
  },
  "language_info": {
   "codemirror_mode": {
    "name": "ipython",
    "version": 3
   },
   "file_extension": ".py",
   "mimetype": "text/x-python",
   "name": "python",
   "nbconvert_exporter": "python",
   "pygments_lexer": "ipython3",
   "version": "3.6.9"
  }
 },
 "nbformat": 4,
 "nbformat_minor": 4
}
